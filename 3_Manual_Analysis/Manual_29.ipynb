{
 "cells": [
  {
   "cell_type": "markdown",
   "metadata": {},
   "source": [
    "# Python data analysis script Version 1.0"
   ]
  },
  {
   "cell_type": "markdown",
   "metadata": {},
   "source": [
    "This script takes `.json` files exported from the `[JSONWriter]` module of Corryvreckan, and is aimed towards analyzing and plotting the hit data."
   ]
  },
  {
   "cell_type": "markdown",
   "metadata": {},
   "source": [
    "## Importing data into python"
   ]
  },
  {
   "cell_type": "markdown",
   "metadata": {},
   "source": [
    "### Reading in .json file"
   ]
  },
  {
   "cell_type": "code",
   "execution_count": 1,
   "metadata": {},
   "outputs": [],
   "source": [
    "import json\n",
    "import os\n",
    "\n",
    "file = 'data/example.json'\n",
    "\n",
    "with open(file) as json_file:\n",
    "    data = json.load(json_file)"
   ]
  },
  {
   "attachments": {
    "image.png": {
     "image/png": "[encoded data removed]"
    }
   },
   "cell_type": "markdown",
   "metadata": {},
   "source": [
    "The JSON file is structured as follows:\n",
    "\n",
    "![image.png](attachment:image.png)\n",
    "\n",
    "The information of a single pixel hit is stored inside of an object, and these objects are bundled into events."
   ]
  },
  {
   "cell_type": "markdown",
   "metadata": {},
   "source": [
    "### Writing all relevant data into one object"
   ]
  },
  {
   "cell_type": "markdown",
   "metadata": {},
   "source": [
    "The goal of this section is to create a python object that contains all necessary data of all events. It should be able to be appended further down the line. The easiest way to do this is to use python lists and dictonaries."
   ]
  },
  {
   "cell_type": "code",
   "execution_count": 2,
   "metadata": {},
   "outputs": [],
   "source": [
    "hit_data = []    #initialize the list of all events\n",
    "event_no = 0     #use a counter that will be incremented on each step\n",
    "\n",
    "#Start the event loop\n",
    "for event in data:\n",
    "    \n",
    "    #Skip over empty events\n",
    "    if len(event) == 0: continue\n",
    "        \n",
    "    #Create a python dictionary for each event.\n",
    "    hit_data.append({})\n",
    "    \n",
    "    #Create an entry in the dictionary for each plane\n",
    "    for plane in range(7):\n",
    "        hit_data[event_no][plane] = {}      #Stores all plane data\n",
    "        hit_data[event_no][plane][\"X\"] = [] #Stores x-coordinates of hits\n",
    "        hit_data[event_no][plane][\"Y\"] = [] #Stores y-coordinates of hits\n",
    "    \n",
    "    #Read out pixel by pixel\n",
    "    for obj in event:\n",
    "        \n",
    "        #First, find out which plane the hit belongs to\n",
    "        plane = int(obj[\"m_detectorID\"].split(\"_\")[1])\n",
    "        #Second, read out x (column) and y (row) data\n",
    "        hit_data[event_no][plane][\"X\"].append(int(obj[\"m_column\"]))\n",
    "        hit_data[event_no][plane][\"Y\"].append(int(obj[\"m_row\"]))\n",
    "        \n",
    "    #Increment counter\n",
    "    event_no+=1"
   ]
  },
  {
   "cell_type": "markdown",
   "metadata": {},
   "source": [
    "For example, we can look at the 13th event like this:"
   ]
  },
  {
   "cell_type": "code",
   "execution_count": 3,
   "metadata": {},
   "outputs": [
    {
     "data": {
      "text/plain": [
       "{0: {'X': [], 'Y': []},\n",
       " 1: {'X': [591], 'Y': [286]},\n",
       " 2: {'X': [], 'Y': []},\n",
       " 3: {'X': [], 'Y': []},\n",
       " 4: {'X': [506], 'Y': [372]},\n",
       " 5: {'X': [], 'Y': []},\n",
       " 6: {'X': [], 'Y': []}}"
      ]
     },
     "execution_count": 3,
     "metadata": {},
     "output_type": "execute_result"
    }
   ],
   "source": [
    "# Look at the 13th event for example\n",
    "hit_data[12]"
   ]
  },
  {
   "cell_type": "markdown",
   "metadata": {},
   "source": [
    "### Adding some helpful information"
   ]
  },
  {
   "cell_type": "markdown",
   "metadata": {},
   "source": [
    "For later analysis, it can come in handy, to seperate the events into different categories, based on the number of planes that have been hit. So we'll quickly add an entry for that."
   ]
  },
  {
   "cell_type": "code",
   "execution_count": 4,
   "metadata": {},
   "outputs": [],
   "source": [
    "for event in range(len(hit_data)):\n",
    "    \n",
    "    total_planes = 7 #Set the total number of planes\n",
    "    \n",
    "    for plane in range(total_planes):\n",
    "        if not hit_data[event][plane][\"X\"]:        #for each empty event\n",
    "            hit_data[event][plane][\"X\"].append(-1) #write a -1 into the hit array\n",
    "            hit_data[event][plane][\"Y\"].append(-1) #---\"---\n",
    "            total_planes-=1                        #and substract one from the total number of planes\n",
    "            \n",
    "    #Add an entry into the dictionary\n",
    "    hit_data[event][\"number_of_planes\"] = total_planes\n",
    "    "
   ]
  },
  {
   "cell_type": "code",
   "execution_count": 5,
   "metadata": {},
   "outputs": [
    {
     "data": {
      "text/plain": [
       "{0: {'X': [-1], 'Y': [-1]},\n",
       " 1: {'X': [591], 'Y': [286]},\n",
       " 2: {'X': [-1], 'Y': [-1]},\n",
       " 3: {'X': [-1], 'Y': [-1]},\n",
       " 4: {'X': [506], 'Y': [372]},\n",
       " 5: {'X': [-1], 'Y': [-1]},\n",
       " 6: {'X': [-1], 'Y': [-1]},\n",
       " 'number_of_planes': 2}"
      ]
     },
     "execution_count": 5,
     "metadata": {},
     "output_type": "execute_result"
    }
   ],
   "source": [
    "hit_data[12]"
   ]
  },
  {
   "cell_type": "markdown",
   "metadata": {},
   "source": [
    "This way, we can add all sort of stuff into the dictionary as we go on, from tracking information, all the way to residuals and goodness-of-fit information."
   ]
  },
  {
   "cell_type": "markdown",
   "metadata": {},
   "source": [
    "## Calculating hit positions"
   ]
  },
  {
   "cell_type": "markdown",
   "metadata": {},
   "source": [
    "For now, our data consisted of individual pixel hits. In the next step, we want to combine these hits into a cluster, to determine the\n",
    "hit position more accurately"
   ]
  },
  {
   "cell_type": "code",
   "execution_count": 6,
   "metadata": {},
   "outputs": [
    {
     "name": "stderr",
     "output_type": "stream",
     "text": [
      "100%|██████████| 87375/87375 [02:27<00:00, 592.67it/s]\n"
     ]
    }
   ],
   "source": [
    "import numpy as np\n",
    "from tqdm import tqdm\n",
    "\n",
    "counter, bad_counter = 0,0\n",
    "\n",
    "#Add a cool status bar\n",
    "with tqdm(total=len(hit_data)) as pbar:\n",
    "\n",
    "    for event in range(len(hit_data)):\n",
    "    \n",
    "        for plane in range(7):\n",
    "        \n",
    "            #Calculate the cluster position in X and Y (mean)\n",
    "            Cluster_X = np.mean(hit_data[event][plane][\"X\"])\n",
    "            Cluster_Y = np.mean(hit_data[event][plane][\"Y\"])\n",
    "        \n",
    "            #Calculate the standard deviation (the cluster spread)\n",
    "            sdev = np.sqrt(np.std(hit_data[event][plane][\"X\"])**2+\n",
    "                      np.std(hit_data[event][plane][\"Y\"])**2)\n",
    "        \n",
    "            #If the cluster consists of one pixel alone, the uncertainty is defined by the binary resolution\n",
    "            if sdev == 0: sdev = 1/np.sqrt(12)\n",
    "            \n",
    "            #Round values a little bit\n",
    "            sdev = np.round(sdev,2)\n",
    "            Cluster_X = np.round(Cluster_X,2)\n",
    "            Cluster_Y = np.round(Cluster_Y,2)\n",
    "        \n",
    "            #Add an entry to the dictionary\n",
    "            hit_data[event][plane][\"XC\"] = Cluster_X\n",
    "            hit_data[event][plane][\"YC\"] = Cluster_Y\n",
    "            hit_data[event][plane][\"sdev\"] = sdev\n",
    "                \n",
    "        pbar.update(1)\n",
    "                "
   ]
  },
  {
   "cell_type": "code",
   "execution_count": 7,
   "metadata": {},
   "outputs": [
    {
     "data": {
      "text/plain": [
       "{0: {'X': [-1], 'Y': [-1], 'XC': -1.0, 'YC': -1.0, 'sdev': 0.29},\n",
       " 1: {'X': [591], 'Y': [286], 'XC': 591.0, 'YC': 286.0, 'sdev': 0.29},\n",
       " 2: {'X': [-1], 'Y': [-1], 'XC': -1.0, 'YC': -1.0, 'sdev': 0.29},\n",
       " 3: {'X': [-1], 'Y': [-1], 'XC': -1.0, 'YC': -1.0, 'sdev': 0.29},\n",
       " 4: {'X': [506], 'Y': [372], 'XC': 506.0, 'YC': 372.0, 'sdev': 0.29},\n",
       " 5: {'X': [-1], 'Y': [-1], 'XC': -1.0, 'YC': -1.0, 'sdev': 0.29},\n",
       " 6: {'X': [-1], 'Y': [-1], 'XC': -1.0, 'YC': -1.0, 'sdev': 0.29},\n",
       " 'number_of_planes': 2}"
      ]
     },
     "execution_count": 7,
     "metadata": {},
     "output_type": "execute_result"
    }
   ],
   "source": [
    "#For example, look at the 13th event\n",
    "hit_data[12]"
   ]
  },
  {
   "cell_type": "markdown",
   "metadata": {},
   "source": [
    "## Taking a first look at the data"
   ]
  },
  {
   "cell_type": "markdown",
   "metadata": {},
   "source": [
    "We will be using the `mplot3d` toolkit from `matplotlib` to visualize the data. First we import it:"
   ]
  },
  {
   "cell_type": "code",
   "execution_count": 8,
   "metadata": {},
   "outputs": [],
   "source": [
    "import matplotlib.pyplot as plt\n",
    "from mpl_toolkits import mplot3d\n",
    "from mpl_toolkits.mplot3d import proj3d\n",
    "%matplotlib notebook"
   ]
  },
  {
   "cell_type": "markdown",
   "metadata": {},
   "source": [
    "Next we choose what data to plot, and how we want it to look like"
   ]
  },
  {
   "cell_type": "code",
   "execution_count": 9,
   "metadata": {},
   "outputs": [],
   "source": [
    "#Define pixel pitches\n",
    "ppx, ppy = 0.02924, 0.02688 #Pixel pitches in x and y [mm]"
   ]
  },
  {
   "cell_type": "code",
   "execution_count": 10,
   "metadata": {},
   "outputs": [
    {
     "data": {
      "image/png": "[encoded data removed]",
      "text/plain": [
       "<Figure size 360x360 with 1 Axes>"
      ]
     },
     "metadata": {
      "needs_background": "light"
     },
     "output_type": "display_data"
    }
   ],
   "source": [
    "plot = 3                    #Plot the first 3 events\n",
    "connect_hits = True         #Connects the hits\n",
    "min_nop = 7                 #Plot only events that include 7 planes\n",
    "\n",
    "#Create a figure object\n",
    "xlim,ylim,zlim = 1023*ppx,511*ppy,6*20 #Dimensions of the detector (pixel pitch)\n",
    "fig = plt.figure(figsize=(5,5))\n",
    "ax = plt.axes(projection='3d')  #Create 3d Axes\n",
    "ax._axis3don = False            #... but invisible\n",
    "#ax.set_box_aspect((3,3,3))     #Define aspect ratio\n",
    "ax.set_xlim3d(0,xlim)           #Axis limits in x\n",
    "ax.set_ylim3d(0,ylim)           #Axis limits in y\n",
    "ax.set_zlim3d(0,zlim)     \n",
    "x = np.arange(0,1025*0.02924,512*0.02924) #Again convert pixel into mm\n",
    "y = np.arange(0,1024*0.02688,512*0.02688)\n",
    "X, Y = np.meshgrid(x,y)\n",
    "Z = np.ndarray((len(y),len(x)))\n",
    "Z.fill(0)\n",
    "\n",
    "#Draw the planes\n",
    "for plane in range(7):\n",
    "    Z.fill(plane*20)\n",
    "    ax.plot_surface(X,Y,Z,alpha=.1,color='black')\n",
    "\n",
    "plot_counter = 0\n",
    "#Plot the hits\n",
    "for event in range(len(hit_data)):\n",
    "    \n",
    "    #Plot only events with the minimum amount of planes specified\n",
    "    if (hit_data[event]['number_of_planes'] < min_nop): continue\n",
    "        \n",
    "    x_data, y_data, z_data = [], [], []\n",
    "    \n",
    "    for plane in range(7):\n",
    "        \n",
    "        #Skip over empty hits\n",
    "        if (hit_data[event][plane][\"XC\"] == -1): continue\n",
    "        \n",
    "        #Put everything else into plottable arrays\n",
    "        x_data.append(ppx*hit_data[event][plane][\"XC\"])\n",
    "        y_data.append(ppy*hit_data[event][plane][\"YC\"])\n",
    "        z_data.append(plane*20)\n",
    "\n",
    "        ax.scatter3D(x_data,y_data,z_data,alpha=.7,color='black',marker='.')\n",
    "        \n",
    "        # OPTIONAL: Connect dots for Better visibility of Tracks\n",
    "        if connect_hits:\n",
    "            ax.plot(x_data,y_data,z_data, linewidth=.5)#, color='grey')\n",
    "        \n",
    "    plot_counter+=1\n",
    "    if plot_counter == plot: break\n",
    "    "
   ]
  },
  {
   "cell_type": "markdown",
   "metadata": {},
   "source": [
    "## Tracking\n"
   ]
  },
  {
   "cell_type": "markdown",
   "metadata": {},
   "source": [
    "In the next step, we'll investigate a way to approximate the data with \n",
    "tracks. Describing the data with tracks is a very useful concept that will later help us align the detector planes.\n",
    "\n",
    "The first step is to approximate each event with a track. A track is a mathematical object, and is not limited to the pixel matrix. It has a much higher accuracy than the hits themselves.\n",
    "\n",
    "Secondly, we want to assign a value to each track, describing the goodness-of-fit to the track. This will be done with a residual (chi squared) analysis."
   ]
  },
  {
   "cell_type": "code",
   "execution_count": 11,
   "metadata": {},
   "outputs": [
    {
     "name": "stderr",
     "output_type": "stream",
     "text": [
      "100%|██████████| 87375/87375 [00:22<00:00, 3869.27it/s]\n"
     ]
    }
   ],
   "source": [
    "# Define Initial Alignment (0 if unknown)\n",
    "offset = np.ndarray((2,7))\n",
    "offset[0][1], offset[1][1] = 0,0 #2.358, -0.127\n",
    "offset[0][2], offset[1][2] = 0,0 #2.248, 1.507\n",
    "offset[0][3], offset[1][3] = 0,0 #2.571, 3.645\n",
    "offset[0][4], offset[1][4] = 0,0 #1.117, 4.811\n",
    "offset[0][5], offset[1][5] = 0,0 #6.219, 1.520\n",
    "offset[0][6], offset[1][6] = 0,0 #-4.222, -0.308\n",
    "\n",
    "with tqdm(total=len(hit_data)) as pbar:\n",
    "    \n",
    "    #Loop over all events\n",
    "    for event in range(len(hit_data)):\n",
    "    \n",
    "        #Number of planes belonging to the track\n",
    "        nop = hit_data[event][\"number_of_planes\"]\n",
    "    \n",
    "        #Create some arrays to calculate in (convert px to mm)\n",
    "        Fit_Data = np.ndarray((nop,3))\n",
    "        std_hit = np.ndarray((nop))\n",
    "        planes_used = [] #This is to exclude empty planes later\n",
    "\n",
    "        #Create a counter for the Fit Array\n",
    "        counter = 0\n",
    "    \n",
    "        #Loop over all planes\n",
    "        for plane in range(7):\n",
    "        \n",
    "            #Skip empty planes\n",
    "            if (hit_data[event][plane][\"XC\"] == -1): continue\n",
    "            \n",
    "            #Note which planes are non-empty\n",
    "            planes_used.append(plane)\n",
    "        \n",
    "            #Align the planes with the formerly defined offset (STILL IN PX)\n",
    "            hit_data[event][plane][\"XC\"]+=offset[0][plane]/ppx\n",
    "            hit_data[event][plane][\"YC\"]+=offset[1][plane]/ppy\n",
    "        \n",
    "            #Convert pixel lengths into mm\n",
    "            Fit_Data[counter][0] = ppx*hit_data[event][plane][\"XC\"]\n",
    "            Fit_Data[counter][1] = ppy*hit_data[event][plane][\"YC\"]\n",
    "            Fit_Data[counter][2] = plane*20\n",
    "            std_hit[counter] = np.sqrt((ppx**2+ppy**2)/2)*hit_data[event][plane][\"sdev\"]\n",
    "            counter+=1\n",
    "    \n",
    "        # Fitting Algorithm (Based on np.linalg.svd)\n",
    "        datamean = Fit_Data.mean(axis=0)\n",
    "        uu, dd, vv = np.linalg.svd(Fit_Data - datamean)\n",
    "        linepts = vv[0] * np.mgrid[-2500*ppx:2500*ppy:2j][:,np.newaxis]\n",
    "        linepts += datamean\n",
    "\n",
    "        # Two Points Define the Fitted Track\n",
    "        x1 = linepts[0]\n",
    "        x2 = linepts[1]\n",
    "\n",
    "        # Take the residual\n",
    "        d = []\n",
    "        for plane in planes_used:\n",
    "            x0 = np.array([\n",
    "                ppx*hit_data[event][plane][\"XC\"],\n",
    "                ppy*hit_data[event][plane][\"YC\"],\n",
    "                plane*20])\n",
    "            \n",
    "            # Solve for the point in plane of Track z = a+mb\n",
    "            lbda = (x0[2] - x2[2])/(x2-x1)[2] # m = (z-a)/(b)\n",
    "            xz = x2+lbda*(x2-x1) # find point in axis that lies in the same plane\n",
    "            hit_data[event][plane][\"resx\"] = (x0-xz)[0]\n",
    "            hit_data[event][plane][\"resy\"] = (x0-xz)[1]\n",
    "            d.append(np.linalg.norm(xz-x0))\n",
    "\n",
    "            # Proof that it works {{{\n",
    "            #fig = plt.figure(figsize=(5,5))\n",
    "            #ax = plt.axes(projection='3d')\n",
    "            #x_track = [x1[0],x2[0]]\n",
    "            #y_track = [x1[1],x2[1]]\n",
    "            #z_track = [x1[2],x2[2]]\n",
    "            #ax.plot(x_track,y_track,z_track)\n",
    "            #ax.scatter(x0[0],x0[1],x0[2])\n",
    "            #ax.scatter(xz[0],xz[1],xz[2])\n",
    "\n",
    "            #x = np.arange(0,1025,512)\n",
    "            #y = np.arange(0,1024,512)\n",
    "            #X, Y = np.meshgrid(x,y)\n",
    "            #Z = np.ndarray((len(y),len(x)))\n",
    "            #Z.fill(0)\n",
    "            ## Draw the planes\n",
    "            #for plane in range(7):\n",
    "            #    Z.fill(plane*1024*2/3)\n",
    "            #    ax.plot_surface(X,Y,Z,alpha=.1,color='black')\n",
    "            #plt.show() }}}\n",
    "\n",
    "        #Add an entry into the dictionary containing the track coordinates\n",
    "        hit_data[event][\"Track_Point_1\"], hit_data[event][\"Track_Point_2\"] = [],[]\n",
    "        for i in range(3):\n",
    "            hit_data[event][\"Track_Point_1\"].append(x1[i])\n",
    "            hit_data[event][\"Track_Point_2\"].append(x2[i])\n",
    "\n",
    "        # From there, calculate chi2 to determine the goodness of the fit\n",
    "        chi2 = 0\n",
    "        for entry in range(len(d)):\n",
    "            chi2 += d[entry]**2/std_hit[entry]**2\n",
    "    \n",
    "        hit_data[event][\"chi2\"] = chi2\n",
    "        \n",
    "        pbar.update(1)"
   ]
  },
  {
   "cell_type": "code",
   "execution_count": 12,
   "metadata": {},
   "outputs": [
    {
     "data": {
      "image/png": "[encoded data removed]",
      "text/plain": [
       "<Figure size 360x360 with 1 Axes>"
      ]
     },
     "metadata": {
      "needs_background": "light"
     },
     "output_type": "display_data"
    }
   ],
   "source": [
    "plot = 3                    #Plot the first X events\n",
    "connect_hits = True         #Connects the hits\n",
    "plot_tracks = True         #Plot tracks associated to events\n",
    "min_nop = 7                 #Plot only events that include 7 planes\n",
    "\n",
    "#Create a figure object\n",
    "xlim,ylim,zlim = 1023*ppx,511*ppy,6*20 #Dimensions of the detector (pixel pitch)\n",
    "fig = plt.figure(figsize=(5,5))\n",
    "ax = plt.axes(projection='3d')  #Create 3d Axes\n",
    "ax._axis3don = False            #... but invisible\n",
    "#ax.set_box_aspect((3,3,3))     #Define aspect ratio\n",
    "ax.set_xlim3d(0,xlim)           #Axis limits in x\n",
    "ax.set_ylim3d(0,ylim)           #Axis limits in y\n",
    "ax.set_zlim3d(0,zlim)     \n",
    "x = np.arange(0,1025*0.02924,512*0.02924) #Again convert pixel into mm\n",
    "y = np.arange(0,1024*0.02688,512*0.02688)\n",
    "X, Y = np.meshgrid(x,y)\n",
    "Z = np.ndarray((len(y),len(x)))\n",
    "Z.fill(0)\n",
    "\n",
    "#Draw the planes\n",
    "for plane in range(7):\n",
    "    Z.fill(plane*20)\n",
    "    ax.plot_surface(X,Y,Z,alpha=.1,color='black')\n",
    "\n",
    "plot_counter = 0\n",
    "\n",
    "#Plot the hits\n",
    "for event in range(len(hit_data)):\n",
    "    \n",
    "    #Plot only events with the minimum amount of planes specified\n",
    "    if (hit_data[event]['number_of_planes'] < min_nop): continue\n",
    "        \n",
    "    x_data, y_data, z_data = [], [], []\n",
    "    \n",
    "    for plane in range(7):\n",
    "        \n",
    "        #Skip over empty hits\n",
    "        if (hit_data[event][plane][\"XC\"] == -1): continue\n",
    "        \n",
    "        #Put everything else into plottable arrays\n",
    "        x_data.append(ppx*hit_data[event][plane][\"XC\"])\n",
    "        y_data.append(ppy*hit_data[event][plane][\"YC\"])\n",
    "        z_data.append(plane*20)\n",
    "\n",
    "        ax.scatter3D(x_data,y_data,z_data,alpha=.7,color='black',marker='.')\n",
    "        \n",
    "        # OPTIONAL: Connect dots for Better visibility of Tracks\n",
    "        if connect_hits:\n",
    "            ax.plot(x_data,y_data,z_data, linewidth=.5)#, color='grey')\n",
    "    \n",
    "        # OPTIONAL: Plot tracks associated to events\n",
    "        if plot_tracks:\n",
    "            x_track = [hit_data[i]['Track_Point_1'][0],hit_data[i]['Track_Point_2'][0]]\n",
    "            y_track = [hit_data[i]['Track_Point_1'][1],hit_data[i]['Track_Point_2'][1]]\n",
    "            z_track = [hit_data[i]['Track_Point_1'][2],hit_data[i]['Track_Point_2'][2]]\n",
    "            ax.plot(x_track,y_track,z_track,linewidth=.5)\n",
    "            \n",
    "    plot_counter+=1\n",
    "    if plot_counter > plot: break\n"
   ]
  },
  {
   "cell_type": "code",
   "execution_count": null,
   "metadata": {},
   "outputs": [],
   "source": []
  }
 ],
 "metadata": {
  "kernelspec": {
   "display_name": "Python 3",
   "language": "python",
   "name": "python3"
  },
  "language_info": {
   "codemirror_mode": {
    "name": "ipython",
    "version": 3
   },
   "file_extension": ".py",
   "mimetype": "text/x-python",
   "name": "python",
   "nbconvert_exporter": "python",
   "pygments_lexer": "ipython3",
   "version": "3.7.3"
  }
 },
 "nbformat": 4,
 "nbformat_minor": 2
}
