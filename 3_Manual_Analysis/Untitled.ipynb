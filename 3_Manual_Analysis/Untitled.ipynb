{
 "cells": [
  {
   "cell_type": "markdown",
   "metadata": {},
   "source": [
    "# Python data analysis script Version 1.0"
   ]
  },
  {
   "cell_type": "markdown",
   "metadata": {},
   "source": [
    "This script takes `.json` files exported from the `[JSONWriter]` module of Corryvreckan, and is aimed towards analyzing and plotting the hit data."
   ]
  },
  {
   "cell_type": "markdown",
   "metadata": {},
   "source": [
    "## Importing data into python"
   ]
  },
  {
   "cell_type": "markdown",
   "metadata": {},
   "source": [
    "### Reading in .json file"
   ]
  },
  {
   "cell_type": "code",
   "execution_count": 1,
   "metadata": {},
   "outputs": [],
   "source": [
    "import json\n",
    "import os\n",
    "\n",
    "file = 'data/example.json'\n",
    "\n",
    "with open(file) as json_file:\n",
    "    data = json.load(json_file)"
   ]
  },
  {
   "cell_type": "markdown",
   "metadata": {},
   "source": [
    "### Writing all relevant data into one object"
   ]
  },
  {
   "cell_type": "markdown",
   "metadata": {},
   "source": [
    "The goal of this section is to create a python object that contains all necessary data of all events. It should be able to be appended further down the line. The easiest way to do this is to use python lists and dictonaries."
   ]
  },
  {
   "cell_type": "code",
   "execution_count": 2,
   "metadata": {},
   "outputs": [
    {
     "name": "stdout",
     "output_type": "stream",
     "text": [
      "Event 0 empty, skipped\n",
      "Event 87375 empty, skipped\n"
     ]
    }
   ],
   "source": [
    "hit_data = []    #initialize the list of all events\n",
    "event_no = 0     #use a counter that will be incremented on each step\n",
    "\n",
    "#Start the event loop\n",
    "for event in data:\n",
    "    \n",
    "    #Skip over empty events\n",
    "    if len(event) == 0:\n",
    "        print(\"Event {} empty, skipped\".format(event_no))\n",
    "        continue\n",
    "        \n",
    "    #Create a python dictionary for each event.\n",
    "    hit_data.append({})\n",
    "    \n",
    "    #Create an entry in the dictionary for each plane\n",
    "    for plane in range(7):\n",
    "        hit_data[event_no][plane] = {}      #Stores all plane data\n",
    "        hit_data[event_no][plane][\"X\"] = [] #Stores x-coordinates of hits\n",
    "        hit_data[event_no][plane][\"Y\"] = [] #Stores y-coordinates of hits\n",
    "    \n",
    "    #Read out pixel by pixel\n",
    "    for obj in event:\n",
    "        \n",
    "        #First, find out which plane the hit belongs to\n",
    "        plane = int(obj[\"m_detectorID\"].split(\"_\")[1])\n",
    "        hit_data[event_no][plane][\"X\"].append(int(obj[\"m_column\"]))\n",
    "        hit_data[event_no][plane][\"Y\"].append(int(obj[\"m_row\"]))\n",
    "        \n",
    "    #Increment counter\n",
    "    event_no+=1"
   ]
  },
  {
   "cell_type": "markdown",
   "metadata": {},
   "source": [
    "### Adding some helpful information"
   ]
  },
  {
   "cell_type": "markdown",
   "metadata": {},
   "source": [
    "For later analysis, it can come in handy, to seperate the events into different categories, based on the number of planes that have been hit. So we'll quickly add an entry for that."
   ]
  },
  {
   "cell_type": "code",
   "execution_count": 3,
   "metadata": {},
   "outputs": [],
   "source": [
    "for event in range(len(hit_data)):\n",
    "    \n",
    "    total_planes = 7 #Set the total number of planes\n",
    "    \n",
    "    for plane in range(total_planes):\n",
    "        if not hit_data[event][plane][\"X\"]:        #for each empty event\n",
    "            hit_data[event][plane][\"X\"].append(-1) #write a -1 into the hit array\n",
    "            hit_data[event][plane][\"Y\"].append(-1) #---\"---\n",
    "            total_planes-=1                        #and substract one from the total number of planes\n",
    "            \n",
    "    #Add an entry into the dictionary\n",
    "    hit_data[event][\"number_of_planes\"] = total_planes\n",
    "    "
   ]
  },
  {
   "cell_type": "markdown",
   "metadata": {},
   "source": [
    "This way, we can add all sort of stuff into the dictionary as we go on, from tracking information, all the way to residuals and goodness-of-fit information."
   ]
  },
  {
   "cell_type": "markdown",
   "metadata": {},
   "source": [
    "## Calculating hit positions"
   ]
  },
  {
   "cell_type": "markdown",
   "metadata": {},
   "source": [
    "For now, our data consisted of individual pixel hits. In the next step, we want to combine these hits into a cluster, to determine the\n",
    "hit position more accurately"
   ]
  },
  {
   "cell_type": "code",
   "execution_count": 4,
   "metadata": {},
   "outputs": [
    {
     "name": "stderr",
     "output_type": "stream",
     "text": [
      "100%|██████████| 87375/87375 [02:28<00:00, 586.74it/s]\n"
     ]
    }
   ],
   "source": [
    "import numpy as np\n",
    "from tqdm import tqdm\n",
    "\n",
    "counter, bad_counter = 0,0\n",
    "\n",
    "#Add a cool status bar\n",
    "with tqdm(total=len(hit_data)) as pbar:\n",
    "\n",
    "    for event in range(len(hit_data)):\n",
    "    \n",
    "        for plane in range(7):\n",
    "        \n",
    "            #Calculate the cluster position in X and Y\n",
    "            Cluster_X = np.mean(hit_data[event][plane][\"X\"])\n",
    "            Cluster_Y = np.mean(hit_data[event][plane][\"Y\"])\n",
    "        \n",
    "            #Calculate the standard deviation (the cluster spread)\n",
    "            sdev = np.sqrt(np.std(hit_data[event][plane][\"X\"])**2+\n",
    "                      np.std(hit_data[event][plane][\"Y\"])**2)\n",
    "        \n",
    "            #If the cluster consists of one pixel alone, the uncertainty is defined by\n",
    "            if sdev == 0: sdev = 1/np.sqrt(12)\n",
    "            \n",
    "            #Round values a little bit\n",
    "            sdev = np.round(sdev,2)\n",
    "            Cluster_X = np.round(Cluster_X,2)\n",
    "            Cluster_Y = np.round(Cluster_Y,2)\n",
    "        \n",
    "            #Add an entry to the dictionary\n",
    "            hit_data[event][plane][\"XC\"] = Cluster_X\n",
    "            hit_data[event][plane][\"YC\"] = Cluster_Y\n",
    "            hit_data[event][plane][\"sdev\"] = sdev\n",
    "                \n",
    "        pbar.update(1)\n",
    "                "
   ]
  },
  {
   "cell_type": "markdown",
   "metadata": {},
   "source": [
    "## Taking a first look at the data"
   ]
  },
  {
   "cell_type": "markdown",
   "metadata": {},
   "source": [
    "We will be using the `mplot3d` toolkit from `matplotlib` to visualize the data. First we import it:"
   ]
  },
  {
   "cell_type": "code",
   "execution_count": 5,
   "metadata": {},
   "outputs": [],
   "source": [
    "import matplotlib.pyplot as plt\n",
    "from mpl_toolkits import mplot3d\n",
    "from mpl_toolkits.mplot3d import proj3d"
   ]
  },
  {
   "cell_type": "markdown",
   "metadata": {},
   "source": [
    "Next we choose what data to plot, and how we want it to look like"
   ]
  },
  {
   "cell_type": "code",
   "execution_count": 16,
   "metadata": {},
   "outputs": [
    {
     "data": {
      "image/png": "[encoded data removed]",
      "text/plain": [
       "<Figure size 360x360 with 1 Axes>"
      ]
     },
     "metadata": {
      "needs_background": "light"
     },
     "output_type": "display_data"
    }
   ],
   "source": [
    "plot_tracks = range(3) #Plot the first 3 events\n",
    "connect_hits = True    #Connects the hits\n",
    "min_nop = 7            #Plot only events that include 7 planes\n",
    "\n",
    "#Create a figure object\n",
    "xlim,ylim,zlim = 1023*29.24e-3,511*26.88e-3,6*20\n",
    "fig = plt.figure(figsize=(5,5))\n",
    "ax = plt.axes(projection='3d')  #Create 3d Axes\n",
    "ax._axis3don = False            #... but invisible\n",
    "ax.set_box_aspect((3,3,3))      #Define aspect ratio\n",
    "ax.set_xlim3d(0,xlim)           #Axis limits in x\n",
    "ax.set_ylim3d(0,ylim)           #Axis limits in y\n",
    "ax.set_zlim3d(0,zlim)     \n",
    "x = np.arange(0,1025*0.02924,512*0.02924)\n",
    "y = np.arange(0,1024*0.02688,512*0.02688)\n",
    "X, Y = np.meshgrid(x,y)\n",
    "Z = np.ndarray((len(y),len(x)))\n",
    "Z.fill(0)\n",
    "\n",
    "#Draw the planes\n",
    "for plane in range(7):\n",
    "    Z.fill(plane*20000)\n",
    "    ax.plot_surface(X,Y,Z,alpha=.1,color='black')\n",
    "\n",
    "plt.show()"
   ]
  },
  {
   "cell_type": "code",
   "execution_count": null,
   "metadata": {},
   "outputs": [],
   "source": []
  }
 ],
 "metadata": {
  "kernelspec": {
   "display_name": "Python 3",
   "language": "python",
   "name": "python3"
  },
  "language_info": {
   "codemirror_mode": {
    "name": "ipython",
    "version": 3
   },
   "file_extension": ".py",
   "mimetype": "text/x-python",
   "name": "python",
   "nbconvert_exporter": "python",
   "pygments_lexer": "ipython3",
   "version": "3.7.3"
  }
 },
 "nbformat": 4,
 "nbformat_minor": 2
}
