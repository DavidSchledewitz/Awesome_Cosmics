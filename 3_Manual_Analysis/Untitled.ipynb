{
 "cells": [
  {
   "cell_type": "markdown",
   "metadata": {},
   "source": [
    "# Python data analysis script Version 1.0"
   ]
  },
  {
   "cell_type": "markdown",
   "metadata": {},
   "source": [
    "This script takes `.json` files exported from the `[JSONWriter]` module of Corryvreckan, and is aimed towards analyzing and plotting the hit data."
   ]
  },
  {
   "cell_type": "markdown",
   "metadata": {},
   "source": [
    "## Importing data into python"
   ]
  },
  {
   "cell_type": "markdown",
   "metadata": {},
   "source": [
    "### Reading in .json file"
   ]
  },
  {
   "cell_type": "code",
   "execution_count": 1,
   "metadata": {},
   "outputs": [],
   "source": [
    "import json\n",
    "import os\n",
    "\n",
    "file = 'data/example.json'\n",
    "\n",
    "with open(file) as json_file:\n",
    "    data = json.load(json_file)"
   ]
  },
  {
   "cell_type": "markdown",
   "metadata": {},
   "source": [
    "### Writing all relevant data into one object"
   ]
  },
  {
   "cell_type": "markdown",
   "metadata": {},
   "source": [
    "The goal of this section is to create a python object that contains all necessary data of all events. It should be able to be appended further down the line. The easiest way to do this is to use python lists and dictonaries."
   ]
  },
  {
   "cell_type": "code",
   "execution_count": 2,
   "metadata": {},
   "outputs": [
    {
     "name": "stdout",
     "output_type": "stream",
     "text": [
      "Event 0 empty, skipped\n",
      "Event 87375 empty, skipped\n"
     ]
    }
   ],
   "source": [
    "hit_data = []    #initialize the list of all events\n",
    "event_no = 0     #use a counter that will be incremented on each step\n",
    "\n",
    "#Start the event loop\n",
    "for event in data:\n",
    "    \n",
    "    #Skip over empty events\n",
    "    if len(event) == 0:\n",
    "        print(\"Event {} empty, skipped\".format(event_no))\n",
    "        continue\n",
    "        \n",
    "    #Create a python dictionary for each event.\n",
    "    hit_data.append({})\n",
    "    \n",
    "    #Create an entry in the dictionary for each plane\n",
    "    for plane in range(7):\n",
    "        hit_data[event_no][plane] = {}      #Stores all plane data\n",
    "        hit_data[event_no][plane][\"X\"] = [] #Stores x-coordinates of hits\n",
    "        hit_data[event_no][plane][\"Y\"] = [] #Stores y-coordinates of hits\n",
    "    \n",
    "    #Read out pixel by pixel\n",
    "    for obj in event:\n",
    "        \n",
    "        #First, find out which plane the hit belongs to\n",
    "        plane = int(obj[\"m_detectorID\"].split(\"_\")[1])\n",
    "        hit_data[event_no][plane][\"X\"].append(int(obj[\"m_column\"]))\n",
    "        hit_data[event_no][plane][\"Y\"].append(int(obj[\"m_row\"]))\n",
    "        \n",
    "    #Increment counter\n",
    "    event_no+=1"
   ]
  },
  {
   "cell_type": "markdown",
   "metadata": {},
   "source": [
    "### Adding some helpful information"
   ]
  },
  {
   "cell_type": "markdown",
   "metadata": {},
   "source": [
    "For later analysis, it can come in handy, to seperate the events into different categories, based on the number of planes that have been hit. So we'll quickly add an entry for that."
   ]
  },
  {
   "cell_type": "code",
   "execution_count": 3,
   "metadata": {},
   "outputs": [],
   "source": [
    "for event in range(len(hit_data)):\n",
    "    \n",
    "    total_planes = 7 #Set the total number of planes\n",
    "    \n",
    "    for plane in range(total_planes):\n",
    "        if not hit_data[event][plane][\"X\"]:        #for each empty event\n",
    "            hit_data[event][plane][\"X\"].append(-1) #write a -1 into the hit array\n",
    "            hit_data[event][plane][\"Y\"].append(-1) #---\"---\n",
    "            total_planes-=1                        #and substract one from the total number of planes\n",
    "            \n",
    "    #Add an entry into the dictionary\n",
    "    hit_data[event][\"number_of_planes\"] = total_planes\n",
    "    "
   ]
  },
  {
   "cell_type": "markdown",
   "metadata": {},
   "source": [
    "This way, we can add all sort of stuff into the dictionary as we go on, from tracking information, all the way to residuals and goodness-of-fit information."
   ]
  },
  {
   "cell_type": "markdown",
   "metadata": {},
   "source": [
    "## Calculating hit positions"
   ]
  },
  {
   "cell_type": "markdown",
   "metadata": {},
   "source": [
    "For now, our data consisted of individual pixel hits. In the next step, we want to combine these hits into a cluster, to determine the\n",
    "hit position more accurately"
   ]
  },
  {
   "cell_type": "code",
   "execution_count": 4,
   "metadata": {},
   "outputs": [
    {
     "name": "stderr",
     "output_type": "stream",
     "text": [
      "100%|██████████| 87375/87375 [02:28<00:00, 586.74it/s]\n"
     ]
    }
   ],
   "source": [
    "import numpy as np\n",
    "from tqdm import tqdm\n",
    "\n",
    "counter, bad_counter = 0,0\n",
    "\n",
    "#Add a cool status bar\n",
    "with tqdm(total=len(hit_data)) as pbar:\n",
    "\n",
    "    for event in range(len(hit_data)):\n",
    "    \n",
    "        for plane in range(7):\n",
    "        \n",
    "            #Calculate the cluster position in X and Y\n",
    "            Cluster_X = np.mean(hit_data[event][plane][\"X\"])\n",
    "            Cluster_Y = np.mean(hit_data[event][plane][\"Y\"])\n",
    "        \n",
    "            #Calculate the standard deviation (the cluster spread)\n",
    "            sdev = np.sqrt(np.std(hit_data[event][plane][\"X\"])**2+\n",
    "                      np.std(hit_data[event][plane][\"Y\"])**2)\n",
    "        \n",
    "            #If the cluster consists of one pixel alone, the uncertainty is defined by\n",
    "            if sdev == 0: sdev = 1/np.sqrt(12)\n",
    "            \n",
    "            #Round values a little bit\n",
    "            sdev = np.round(sdev,2)\n",
    "            Cluster_X = np.round(Cluster_X,2)\n",
    "            Cluster_Y = np.round(Cluster_Y,2)\n",
    "        \n",
    "            #Add an entry to the dictionary\n",
    "            hit_data[event][plane][\"XC\"] = Cluster_X\n",
    "            hit_data[event][plane][\"YC\"] = Cluster_Y\n",
    "            hit_data[event][plane][\"sdev\"] = sdev\n",
    "                \n",
    "        pbar.update(1)\n",
    "                "
   ]
  },
  {
   "cell_type": "markdown",
   "metadata": {},
   "source": [
    "## Taking a first look at the data"
   ]
  },
  {
   "cell_type": "markdown",
   "metadata": {},
   "source": [
    "We will be using the `mplot3d` toolkit from `matplotlib` to visualize the data. First we import it:"
   ]
  },
  {
   "cell_type": "code",
   "execution_count": 20,
   "metadata": {},
   "outputs": [],
   "source": [
    "import matplotlib.pyplot as plt\n",
    "from mpl_toolkits import mplot3d\n",
    "from mpl_toolkits.mplot3d import proj3d\n",
    "%matplotlib notebook"
   ]
  },
  {
   "cell_type": "markdown",
   "metadata": {},
   "source": [
    "Next we choose what data to plot, and how we want it to look like"
   ]
  },
  {
   "cell_type": "code",
   "execution_count": 28,
   "metadata": {
    "scrolled": true
   },
   "outputs": [
    {
     "data": {
      "application/javascript": "/* Put everything inside the global mpl namespace */\n/* global mpl */\nwindow.mpl = {};\n\nmpl.get_websocket_type = function () {\n    if (typeof WebSocket !== 'undefined') {\n        return WebSocket;\n    } else if (typeof MozWebSocket !== 'undefined') {\n        return MozWebSocket;\n    } else {\n        alert(\n            'Your browser does not have WebSocket support. ' +\n                'Please try Chrome, Safari or Firefox ≥ 6. ' +\n                'Firefox 4 and 5 are also supported but you ' +\n                'have to enable WebSockets in about:config.'\n        );\n    }\n};\n\nmpl.figure = function (figure_id, websocket, ondownload, parent_element) {\n    this.id = figure_id;\n\n    this.ws = websocket;\n\n    this.supports_binary = this.ws.binaryType !== undefined;\n\n    if (!this.supports_binary) {\n        var warnings = document.getElementById('mpl-warnings');\n        if (warnings) {\n            warnings.style.display = 'block';\n            warnings.textContent =\n                'This browser does not support binary websocket messages. ' +\n                'Performance may be slow.';\n        }\n    }\n\n    this.imageObj = new Image();\n\n    this.context = undefined;\n    this.message = undefined;\n    this.canvas = undefined;\n    this.rubberband_canvas = undefined;\n    this.rubberband_context = undefined;\n    this.format_dropdown = undefined;\n\n    this.image_mode = 'full';\n\n    this.root = document.createElement('div');\n    this.root.setAttribute('style', 'display: inline-block');\n    this._root_extra_style(this.root);\n\n    parent_element.appendChild(this.root);\n\n    this._init_header(this);\n    this._init_canvas(this);\n    this._init_toolbar(this);\n\n    var fig = this;\n\n    this.waiting = false;\n\n    this.ws.onopen = function () {\n        fig.send_message('supports_binary', { value: fig.supports_binary });\n        fig.send_message('send_image_mode', {});\n        if (fig.ratio !== 1) {\n            fig.send_message('set_dpi_ratio', { dpi_ratio: fig.ratio });\n        }\n        fig.send_message('refresh', {});\n    };\n\n    this.imageObj.onload = function () {\n        if (fig.image_mode === 'full') {\n            // Full images could contain transparency (where diff images\n            // almost always do), so we need to clear the canvas so that\n            // there is no ghosting.\n            fig.context.clearRect(0, 0, fig.canvas.width, fig.canvas.height);\n        }\n        fig.context.drawImage(fig.imageObj, 0, 0);\n    };\n\n    this.imageObj.onunload = function () {\n        fig.ws.close();\n    };\n\n    this.ws.onmessage = this._make_on_message_function(this);\n\n    this.ondownload = ondownload;\n};\n\nmpl.figure.prototype._init_header = function () {\n    var titlebar = document.createElement('div');\n    titlebar.classList =\n        'ui-dialog-titlebar ui-widget-header ui-corner-all ui-helper-clearfix';\n    var titletext = document.createElement('div');\n    titletext.classList = 'ui-dialog-title';\n    titletext.setAttribute(\n        'style',\n        'width: 100%; text-align: center; padding: 3px;'\n    );\n    titlebar.appendChild(titletext);\n    this.root.appendChild(titlebar);\n    this.header = titletext;\n};\n\nmpl.figure.prototype._canvas_extra_style = function (_canvas_div) {};\n\nmpl.figure.prototype._root_extra_style = function (_canvas_div) {};\n\nmpl.figure.prototype._init_canvas = function () {\n    var fig = this;\n\n    var canvas_div = (this.canvas_div = document.createElement('div'));\n    canvas_div.setAttribute(\n        'style',\n        'border: 1px solid #ddd;' +\n            'box-sizing: content-box;' +\n            'clear: both;' +\n            'min-height: 1px;' +\n            'min-width: 1px;' +\n            'outline: 0;' +\n            'overflow: hidden;' +\n            'position: relative;' +\n            'resize: both;'\n    );\n\n    function on_keyboard_event_closure(name) {\n        return function (event) {\n            return fig.key_event(event, name);\n        };\n    }\n\n    canvas_div.addEventListener(\n        'keydown',\n        on_keyboard_event_closure('key_press')\n    );\n    canvas_div.addEventListener(\n        'keyup',\n        on_keyboard_event_closure('key_release')\n    );\n\n    this._canvas_extra_style(canvas_div);\n    this.root.appendChild(canvas_div);\n\n    var canvas = (this.canvas = document.createElement('canvas'));\n    canvas.classList.add('mpl-canvas');\n    canvas.setAttribute('style', 'box-sizing: content-box;');\n\n    this.context = canvas.getContext('2d');\n\n    var backingStore =\n        this.context.backingStorePixelRatio ||\n        this.context.webkitBackingStorePixelRatio ||\n        this.context.mozBackingStorePixelRatio ||\n        this.context.msBackingStorePixelRatio ||\n        this.context.oBackingStorePixelRatio ||\n        this.context.backingStorePixelRatio ||\n        1;\n\n    this.ratio = (window.devicePixelRatio || 1) / backingStore;\n    if (this.ratio !== 1) {\n        fig.send_message('set_dpi_ratio', { dpi_ratio: this.ratio });\n    }\n\n    var rubberband_canvas = (this.rubberband_canvas = document.createElement(\n        'canvas'\n    ));\n    rubberband_canvas.setAttribute(\n        'style',\n        'box-sizing: content-box; position: absolute; left: 0; top: 0; z-index: 1;'\n    );\n\n    var resizeObserver = new ResizeObserver(function (entries) {\n        var nentries = entries.length;\n        for (var i = 0; i < nentries; i++) {\n            var entry = entries[i];\n            var width, height;\n            if (entry.contentBoxSize) {\n                if (entry.contentBoxSize instanceof Array) {\n                    // Chrome 84 implements new version of spec.\n                    width = entry.contentBoxSize[0].inlineSize;\n                    height = entry.contentBoxSize[0].blockSize;\n                } else {\n                    // Firefox implements old version of spec.\n                    width = entry.contentBoxSize.inlineSize;\n                    height = entry.contentBoxSize.blockSize;\n                }\n            } else {\n                // Chrome <84 implements even older version of spec.\n                width = entry.contentRect.width;\n                height = entry.contentRect.height;\n            }\n\n            // Keep the size of the canvas and rubber band canvas in sync with\n            // the canvas container.\n            if (entry.devicePixelContentBoxSize) {\n                // Chrome 84 implements new version of spec.\n                canvas.setAttribute(\n                    'width',\n                    entry.devicePixelContentBoxSize[0].inlineSize\n                );\n                canvas.setAttribute(\n                    'height',\n                    entry.devicePixelContentBoxSize[0].blockSize\n                );\n            } else {\n                canvas.setAttribute('width', width * fig.ratio);\n                canvas.setAttribute('height', height * fig.ratio);\n            }\n            canvas.setAttribute(\n                'style',\n                'width: ' + width + 'px; height: ' + height + 'px;'\n            );\n\n            rubberband_canvas.setAttribute('width', width);\n            rubberband_canvas.setAttribute('height', height);\n\n            // And update the size in Python. We ignore the initial 0/0 size\n            // that occurs as the element is placed into the DOM, which should\n            // otherwise not happen due to the minimum size styling.\n            if (width != 0 && height != 0) {\n                fig.request_resize(width, height);\n            }\n        }\n    });\n    resizeObserver.observe(canvas_div);\n\n    function on_mouse_event_closure(name) {\n        return function (event) {\n            return fig.mouse_event(event, name);\n        };\n    }\n\n    rubberband_canvas.addEventListener(\n        'mousedown',\n        on_mouse_event_closure('button_press')\n    );\n    rubberband_canvas.addEventListener(\n        'mouseup',\n        on_mouse_event_closure('button_release')\n    );\n    // Throttle sequential mouse events to 1 every 20ms.\n    rubberband_canvas.addEventListener(\n        'mousemove',\n        on_mouse_event_closure('motion_notify')\n    );\n\n    rubberband_canvas.addEventListener(\n        'mouseenter',\n        on_mouse_event_closure('figure_enter')\n    );\n    rubberband_canvas.addEventListener(\n        'mouseleave',\n        on_mouse_event_closure('figure_leave')\n    );\n\n    canvas_div.addEventListener('wheel', function (event) {\n        if (event.deltaY < 0) {\n            event.step = 1;\n        } else {\n            event.step = -1;\n        }\n        on_mouse_event_closure('scroll')(event);\n    });\n\n    canvas_div.appendChild(canvas);\n    canvas_div.appendChild(rubberband_canvas);\n\n    this.rubberband_context = rubberband_canvas.getContext('2d');\n    this.rubberband_context.strokeStyle = '#000000';\n\n    this._resize_canvas = function (width, height, forward) {\n        if (forward) {\n            canvas_div.style.width = width + 'px';\n            canvas_div.style.height = height + 'px';\n        }\n    };\n\n    // Disable right mouse context menu.\n    this.rubberband_canvas.addEventListener('contextmenu', function (_e) {\n        event.preventDefault();\n        return false;\n    });\n\n    function set_focus() {\n        canvas.focus();\n        canvas_div.focus();\n    }\n\n    window.setTimeout(set_focus, 100);\n};\n\nmpl.figure.prototype._init_toolbar = function () {\n    var fig = this;\n\n    var toolbar = document.createElement('div');\n    toolbar.classList = 'mpl-toolbar';\n    this.root.appendChild(toolbar);\n\n    function on_click_closure(name) {\n        return function (_event) {\n            return fig.toolbar_button_onclick(name);\n        };\n    }\n\n    function on_mouseover_closure(tooltip) {\n        return function (event) {\n            if (!event.currentTarget.disabled) {\n                return fig.toolbar_button_onmouseover(tooltip);\n            }\n        };\n    }\n\n    fig.buttons = {};\n    var buttonGroup = document.createElement('div');\n    buttonGroup.classList = 'mpl-button-group';\n    for (var toolbar_ind in mpl.toolbar_items) {\n        var name = mpl.toolbar_items[toolbar_ind][0];\n        var tooltip = mpl.toolbar_items[toolbar_ind][1];\n        var image = mpl.toolbar_items[toolbar_ind][2];\n        var method_name = mpl.toolbar_items[toolbar_ind][3];\n\n        if (!name) {\n            /* Instead of a spacer, we start a new button group. */\n            if (buttonGroup.hasChildNodes()) {\n                toolbar.appendChild(buttonGroup);\n            }\n            buttonGroup = document.createElement('div');\n            buttonGroup.classList = 'mpl-button-group';\n            continue;\n        }\n\n        var button = (fig.buttons[name] = document.createElement('button'));\n        button.classList = 'mpl-widget';\n        button.setAttribute('role', 'button');\n        button.setAttribute('aria-disabled', 'false');\n        button.addEventListener('click', on_click_closure(method_name));\n        button.addEventListener('mouseover', on_mouseover_closure(tooltip));\n\n        var icon_img = document.createElement('img');\n        icon_img.src = '_images/' + image + '.png';\n        icon_img.srcset = '_images/' + image + '_large.png 2x';\n        icon_img.alt = tooltip;\n        button.appendChild(icon_img);\n\n        buttonGroup.appendChild(button);\n    }\n\n    if (buttonGroup.hasChildNodes()) {\n        toolbar.appendChild(buttonGroup);\n    }\n\n    var fmt_picker = document.createElement('select');\n    fmt_picker.classList = 'mpl-widget';\n    toolbar.appendChild(fmt_picker);\n    this.format_dropdown = fmt_picker;\n\n    for (var ind in mpl.extensions) {\n        var fmt = mpl.extensions[ind];\n        var option = document.createElement('option');\n        option.selected = fmt === mpl.default_extension;\n        option.innerHTML = fmt;\n        fmt_picker.appendChild(option);\n    }\n\n    var status_bar = document.createElement('span');\n    status_bar.classList = 'mpl-message';\n    toolbar.appendChild(status_bar);\n    this.message = status_bar;\n};\n\nmpl.figure.prototype.request_resize = function (x_pixels, y_pixels) {\n    // Request matplotlib to resize the figure. Matplotlib will then trigger a resize in the client,\n    // which will in turn request a refresh of the image.\n    this.send_message('resize', { width: x_pixels, height: y_pixels });\n};\n\nmpl.figure.prototype.send_message = function (type, properties) {\n    properties['type'] = type;\n    properties['figure_id'] = this.id;\n    this.ws.send(JSON.stringify(properties));\n};\n\nmpl.figure.prototype.send_draw_message = function () {\n    if (!this.waiting) {\n        this.waiting = true;\n        this.ws.send(JSON.stringify({ type: 'draw', figure_id: this.id }));\n    }\n};\n\nmpl.figure.prototype.handle_save = function (fig, _msg) {\n    var format_dropdown = fig.format_dropdown;\n    var format = format_dropdown.options[format_dropdown.selectedIndex].value;\n    fig.ondownload(fig, format);\n};\n\nmpl.figure.prototype.handle_resize = function (fig, msg) {\n    var size = msg['size'];\n    if (size[0] !== fig.canvas.width || size[1] !== fig.canvas.height) {\n        fig._resize_canvas(size[0], size[1], msg['forward']);\n        fig.send_message('refresh', {});\n    }\n};\n\nmpl.figure.prototype.handle_rubberband = function (fig, msg) {\n    var x0 = msg['x0'] / fig.ratio;\n    var y0 = (fig.canvas.height - msg['y0']) / fig.ratio;\n    var x1 = msg['x1'] / fig.ratio;\n    var y1 = (fig.canvas.height - msg['y1']) / fig.ratio;\n    x0 = Math.floor(x0) + 0.5;\n    y0 = Math.floor(y0) + 0.5;\n    x1 = Math.floor(x1) + 0.5;\n    y1 = Math.floor(y1) + 0.5;\n    var min_x = Math.min(x0, x1);\n    var min_y = Math.min(y0, y1);\n    var width = Math.abs(x1 - x0);\n    var height = Math.abs(y1 - y0);\n\n    fig.rubberband_context.clearRect(\n        0,\n        0,\n        fig.canvas.width / fig.ratio,\n        fig.canvas.height / fig.ratio\n    );\n\n    fig.rubberband_context.strokeRect(min_x, min_y, width, height);\n};\n\nmpl.figure.prototype.handle_figure_label = function (fig, msg) {\n    // Updates the figure title.\n    fig.header.textContent = msg['label'];\n};\n\nmpl.figure.prototype.handle_cursor = function (fig, msg) {\n    var cursor = msg['cursor'];\n    switch (cursor) {\n        case 0:\n            cursor = 'pointer';\n            break;\n        case 1:\n            cursor = 'default';\n            break;\n        case 2:\n            cursor = 'crosshair';\n            break;\n        case 3:\n            cursor = 'move';\n            break;\n    }\n    fig.rubberband_canvas.style.cursor = cursor;\n};\n\nmpl.figure.prototype.handle_message = function (fig, msg) {\n    fig.message.textContent = msg['message'];\n};\n\nmpl.figure.prototype.handle_draw = function (fig, _msg) {\n    // Request the server to send over a new figure.\n    fig.send_draw_message();\n};\n\nmpl.figure.prototype.handle_image_mode = function (fig, msg) {\n    fig.image_mode = msg['mode'];\n};\n\nmpl.figure.prototype.handle_history_buttons = function (fig, msg) {\n    for (var key in msg) {\n        if (!(key in fig.buttons)) {\n            continue;\n        }\n        fig.buttons[key].disabled = !msg[key];\n        fig.buttons[key].setAttribute('aria-disabled', !msg[key]);\n    }\n};\n\nmpl.figure.prototype.handle_navigate_mode = function (fig, msg) {\n    if (msg['mode'] === 'PAN') {\n        fig.buttons['Pan'].classList.add('active');\n        fig.buttons['Zoom'].classList.remove('active');\n    } else if (msg['mode'] === 'ZOOM') {\n        fig.buttons['Pan'].classList.remove('active');\n        fig.buttons['Zoom'].classList.add('active');\n    } else {\n        fig.buttons['Pan'].classList.remove('active');\n        fig.buttons['Zoom'].classList.remove('active');\n    }\n};\n\nmpl.figure.prototype.updated_canvas_event = function () {\n    // Called whenever the canvas gets updated.\n    this.send_message('ack', {});\n};\n\n// A function to construct a web socket function for onmessage handling.\n// Called in the figure constructor.\nmpl.figure.prototype._make_on_message_function = function (fig) {\n    return function socket_on_message(evt) {\n        if (evt.data instanceof Blob) {\n            /* FIXME: We get \"Resource interpreted as Image but\n             * transferred with MIME type text/plain:\" errors on\n             * Chrome.  But how to set the MIME type?  It doesn't seem\n             * to be part of the websocket stream */\n            evt.data.type = 'image/png';\n\n            /* Free the memory for the previous frames */\n            if (fig.imageObj.src) {\n                (window.URL || window.webkitURL).revokeObjectURL(\n                    fig.imageObj.src\n                );\n            }\n\n            fig.imageObj.src = (window.URL || window.webkitURL).createObjectURL(\n                evt.data\n            );\n            fig.updated_canvas_event();\n            fig.waiting = false;\n            return;\n        } else if (\n            typeof evt.data === 'string' &&\n            evt.data.slice(0, 21) === 'data:image/png;base64'\n        ) {\n            fig.imageObj.src = evt.data;\n            fig.updated_canvas_event();\n            fig.waiting = false;\n            return;\n        }\n\n        var msg = JSON.parse(evt.data);\n        var msg_type = msg['type'];\n\n        // Call the  \"handle_{type}\" callback, which takes\n        // the figure and JSON message as its only arguments.\n        try {\n            var callback = fig['handle_' + msg_type];\n        } catch (e) {\n            console.log(\n                \"No handler for the '\" + msg_type + \"' message type: \",\n                msg\n            );\n            return;\n        }\n\n        if (callback) {\n            try {\n                // console.log(\"Handling '\" + msg_type + \"' message: \", msg);\n                callback(fig, msg);\n            } catch (e) {\n                console.log(\n                    \"Exception inside the 'handler_\" + msg_type + \"' callback:\",\n                    e,\n                    e.stack,\n                    msg\n                );\n            }\n        }\n    };\n};\n\n// from http://stackoverflow.com/questions/1114465/getting-mouse-location-in-canvas\nmpl.findpos = function (e) {\n    //this section is from http://www.quirksmode.org/js/events_properties.html\n    var targ;\n    if (!e) {\n        e = window.event;\n    }\n    if (e.target) {\n        targ = e.target;\n    } else if (e.srcElement) {\n        targ = e.srcElement;\n    }\n    if (targ.nodeType === 3) {\n        // defeat Safari bug\n        targ = targ.parentNode;\n    }\n\n    // pageX,Y are the mouse positions relative to the document\n    var boundingRect = targ.getBoundingClientRect();\n    var x = e.pageX - (boundingRect.left + document.body.scrollLeft);\n    var y = e.pageY - (boundingRect.top + document.body.scrollTop);\n\n    return { x: x, y: y };\n};\n\n/*\n * return a copy of an object with only non-object keys\n * we need this to avoid circular references\n * http://stackoverflow.com/a/24161582/3208463\n */\nfunction simpleKeys(original) {\n    return Object.keys(original).reduce(function (obj, key) {\n        if (typeof original[key] !== 'object') {\n            obj[key] = original[key];\n        }\n        return obj;\n    }, {});\n}\n\nmpl.figure.prototype.mouse_event = function (event, name) {\n    var canvas_pos = mpl.findpos(event);\n\n    if (name === 'button_press') {\n        this.canvas.focus();\n        this.canvas_div.focus();\n    }\n\n    var x = canvas_pos.x * this.ratio;\n    var y = canvas_pos.y * this.ratio;\n\n    this.send_message(name, {\n        x: x,\n        y: y,\n        button: event.button,\n        step: event.step,\n        guiEvent: simpleKeys(event),\n    });\n\n    /* This prevents the web browser from automatically changing to\n     * the text insertion cursor when the button is pressed.  We want\n     * to control all of the cursor setting manually through the\n     * 'cursor' event from matplotlib */\n    event.preventDefault();\n    return false;\n};\n\nmpl.figure.prototype._key_event_extra = function (_event, _name) {\n    // Handle any extra behaviour associated with a key event\n};\n\nmpl.figure.prototype.key_event = function (event, name) {\n    // Prevent repeat events\n    if (name === 'key_press') {\n        if (event.which === this._key) {\n            return;\n        } else {\n            this._key = event.which;\n        }\n    }\n    if (name === 'key_release') {\n        this._key = null;\n    }\n\n    var value = '';\n    if (event.ctrlKey && event.which !== 17) {\n        value += 'ctrl+';\n    }\n    if (event.altKey && event.which !== 18) {\n        value += 'alt+';\n    }\n    if (event.shiftKey && event.which !== 16) {\n        value += 'shift+';\n    }\n\n    value += 'k';\n    value += event.which.toString();\n\n    this._key_event_extra(event, name);\n\n    this.send_message(name, { key: value, guiEvent: simpleKeys(event) });\n    return false;\n};\n\nmpl.figure.prototype.toolbar_button_onclick = function (name) {\n    if (name === 'download') {\n        this.handle_save(this, null);\n    } else {\n        this.send_message('toolbar_button', { name: name });\n    }\n};\n\nmpl.figure.prototype.toolbar_button_onmouseover = function (tooltip) {\n    this.message.textContent = tooltip;\n};\nmpl.toolbar_items = [[\"Home\", \"Reset original view\", \"fa fa-home icon-home\", \"home\"], [\"Back\", \"Back to previous view\", \"fa fa-arrow-left icon-arrow-left\", \"back\"], [\"Forward\", \"Forward to next view\", \"fa fa-arrow-right icon-arrow-right\", \"forward\"], [\"\", \"\", \"\", \"\"], [\"Pan\", \"Left button pans, Right button zooms\\nx/y fixes axis, CTRL fixes aspect\", \"fa fa-arrows icon-move\", \"pan\"], [\"Zoom\", \"Zoom to rectangle\\nx/y fixes axis, CTRL fixes aspect\", \"fa fa-square-o icon-check-empty\", \"zoom\"], [\"\", \"\", \"\", \"\"], [\"Download\", \"Download plot\", \"fa fa-floppy-o icon-save\", \"download\"]];\n\nmpl.extensions = [\"eps\", \"jpeg\", \"pdf\", \"png\", \"ps\", \"raw\", \"svg\", \"tif\"];\n\nmpl.default_extension = \"png\";/* global mpl */\n\nvar comm_websocket_adapter = function (comm) {\n    // Create a \"websocket\"-like object which calls the given IPython comm\n    // object with the appropriate methods. Currently this is a non binary\n    // socket, so there is still some room for performance tuning.\n    var ws = {};\n\n    ws.close = function () {\n        comm.close();\n    };\n    ws.send = function (m) {\n        //console.log('sending', m);\n        comm.send(m);\n    };\n    // Register the callback with on_msg.\n    comm.on_msg(function (msg) {\n        //console.log('receiving', msg['content']['data'], msg);\n        // Pass the mpl event to the overridden (by mpl) onmessage function.\n        ws.onmessage(msg['content']['data']);\n    });\n    return ws;\n};\n\nmpl.mpl_figure_comm = function (comm, msg) {\n    // This is the function which gets called when the mpl process\n    // starts-up an IPython Comm through the \"matplotlib\" channel.\n\n    var id = msg.content.data.id;\n    // Get hold of the div created by the display call when the Comm\n    // socket was opened in Python.\n    var element = document.getElementById(id);\n    var ws_proxy = comm_websocket_adapter(comm);\n\n    function ondownload(figure, _format) {\n        window.open(figure.canvas.toDataURL());\n    }\n\n    var fig = new mpl.figure(id, ws_proxy, ondownload, element);\n\n    // Call onopen now - mpl needs it, as it is assuming we've passed it a real\n    // web socket which is closed, not our websocket->open comm proxy.\n    ws_proxy.onopen();\n\n    fig.parent_element = element;\n    fig.cell_info = mpl.find_output_cell(\"<div id='\" + id + \"'></div>\");\n    if (!fig.cell_info) {\n        console.error('Failed to find cell for figure', id, fig);\n        return;\n    }\n    fig.cell_info[0].output_area.element.one(\n        'cleared',\n        { fig: fig },\n        fig._remove_fig_handler\n    );\n};\n\nmpl.figure.prototype.handle_close = function (fig, msg) {\n    var width = fig.canvas.width / fig.ratio;\n    fig.cell_info[0].output_area.element.off(\n        'cleared',\n        fig._remove_fig_handler\n    );\n\n    // Update the output cell to use the data from the current canvas.\n    fig.push_to_output();\n    var dataURL = fig.canvas.toDataURL();\n    // Re-enable the keyboard manager in IPython - without this line, in FF,\n    // the notebook keyboard shortcuts fail.\n    IPython.keyboard_manager.enable();\n    fig.parent_element.innerHTML =\n        '<img src=\"' + dataURL + '\" width=\"' + width + '\">';\n    fig.close_ws(fig, msg);\n};\n\nmpl.figure.prototype.close_ws = function (fig, msg) {\n    fig.send_message('closing', msg);\n    // fig.ws.close()\n};\n\nmpl.figure.prototype.push_to_output = function (_remove_interactive) {\n    // Turn the data on the canvas into data in the output cell.\n    var width = this.canvas.width / this.ratio;\n    var dataURL = this.canvas.toDataURL();\n    this.cell_info[1]['text/html'] =\n        '<img src=\"' + dataURL + '\" width=\"' + width + '\">';\n};\n\nmpl.figure.prototype.updated_canvas_event = function () {\n    // Tell IPython that the notebook contents must change.\n    IPython.notebook.set_dirty(true);\n    this.send_message('ack', {});\n    var fig = this;\n    // Wait a second, then push the new image to the DOM so\n    // that it is saved nicely (might be nice to debounce this).\n    setTimeout(function () {\n        fig.push_to_output();\n    }, 1000);\n};\n\nmpl.figure.prototype._init_toolbar = function () {\n    var fig = this;\n\n    var toolbar = document.createElement('div');\n    toolbar.classList = 'btn-toolbar';\n    this.root.appendChild(toolbar);\n\n    function on_click_closure(name) {\n        return function (_event) {\n            return fig.toolbar_button_onclick(name);\n        };\n    }\n\n    function on_mouseover_closure(tooltip) {\n        return function (event) {\n            if (!event.currentTarget.disabled) {\n                return fig.toolbar_button_onmouseover(tooltip);\n            }\n        };\n    }\n\n    fig.buttons = {};\n    var buttonGroup = document.createElement('div');\n    buttonGroup.classList = 'btn-group';\n    var button;\n    for (var toolbar_ind in mpl.toolbar_items) {\n        var name = mpl.toolbar_items[toolbar_ind][0];\n        var tooltip = mpl.toolbar_items[toolbar_ind][1];\n        var image = mpl.toolbar_items[toolbar_ind][2];\n        var method_name = mpl.toolbar_items[toolbar_ind][3];\n\n        if (!name) {\n            /* Instead of a spacer, we start a new button group. */\n            if (buttonGroup.hasChildNodes()) {\n                toolbar.appendChild(buttonGroup);\n            }\n            buttonGroup = document.createElement('div');\n            buttonGroup.classList = 'btn-group';\n            continue;\n        }\n\n        button = fig.buttons[name] = document.createElement('button');\n        button.classList = 'btn btn-default';\n        button.href = '#';\n        button.title = name;\n        button.innerHTML = '<i class=\"fa ' + image + ' fa-lg\"></i>';\n        button.addEventListener('click', on_click_closure(method_name));\n        button.addEventListener('mouseover', on_mouseover_closure(tooltip));\n        buttonGroup.appendChild(button);\n    }\n\n    if (buttonGroup.hasChildNodes()) {\n        toolbar.appendChild(buttonGroup);\n    }\n\n    // Add the status bar.\n    var status_bar = document.createElement('span');\n    status_bar.classList = 'mpl-message pull-right';\n    toolbar.appendChild(status_bar);\n    this.message = status_bar;\n\n    // Add the close button to the window.\n    var buttongrp = document.createElement('div');\n    buttongrp.classList = 'btn-group inline pull-right';\n    button = document.createElement('button');\n    button.classList = 'btn btn-mini btn-primary';\n    button.href = '#';\n    button.title = 'Stop Interaction';\n    button.innerHTML = '<i class=\"fa fa-power-off icon-remove icon-large\"></i>';\n    button.addEventListener('click', function (_evt) {\n        fig.handle_close(fig, {});\n    });\n    button.addEventListener(\n        'mouseover',\n        on_mouseover_closure('Stop Interaction')\n    );\n    buttongrp.appendChild(button);\n    var titlebar = this.root.querySelector('.ui-dialog-titlebar');\n    titlebar.insertBefore(buttongrp, titlebar.firstChild);\n};\n\nmpl.figure.prototype._remove_fig_handler = function (event) {\n    var fig = event.data.fig;\n    fig.close_ws(fig, {});\n};\n\nmpl.figure.prototype._root_extra_style = function (el) {\n    el.style.boxSizing = 'content-box'; // override notebook setting of border-box.\n};\n\nmpl.figure.prototype._canvas_extra_style = function (el) {\n    // this is important to make the div 'focusable\n    el.setAttribute('tabindex', 0);\n    // reach out to IPython and tell the keyboard manager to turn it's self\n    // off when our div gets focus\n\n    // location in version 3\n    if (IPython.notebook.keyboard_manager) {\n        IPython.notebook.keyboard_manager.register_events(el);\n    } else {\n        // location in version 2\n        IPython.keyboard_manager.register_events(el);\n    }\n};\n\nmpl.figure.prototype._key_event_extra = function (event, _name) {\n    var manager = IPython.notebook.keyboard_manager;\n    if (!manager) {\n        manager = IPython.keyboard_manager;\n    }\n\n    // Check for shift+enter\n    if (event.shiftKey && event.which === 13) {\n        this.canvas_div.blur();\n        // select the cell after this one\n        var index = IPython.notebook.find_cell_index(this.cell_info[0]);\n        IPython.notebook.select(index + 1);\n    }\n};\n\nmpl.figure.prototype.handle_save = function (fig, _msg) {\n    fig.ondownload(fig, null);\n};\n\nmpl.find_output_cell = function (html_output) {\n    // Return the cell and output element which can be found *uniquely* in the notebook.\n    // Note - this is a bit hacky, but it is done because the \"notebook_saving.Notebook\"\n    // IPython event is triggered only after the cells have been serialised, which for\n    // our purposes (turning an active figure into a static one), is too late.\n    var cells = IPython.notebook.get_cells();\n    var ncells = cells.length;\n    for (var i = 0; i < ncells; i++) {\n        var cell = cells[i];\n        if (cell.cell_type === 'code') {\n            for (var j = 0; j < cell.output_area.outputs.length; j++) {\n                var data = cell.output_area.outputs[j];\n                if (data.data) {\n                    // IPython >= 3 moved mimebundle to data attribute of output\n                    data = data.data;\n                }\n                if (data['text/html'] === html_output) {\n                    return [cell, data, j];\n                }\n            }\n        }\n    }\n};\n\n// Register the function which deals with the matplotlib target/channel.\n// The kernel may be null if the page has been refreshed.\nif (IPython.notebook.kernel !== null) {\n    IPython.notebook.kernel.comm_manager.register_target(\n        'matplotlib',\n        mpl.mpl_figure_comm\n    );\n}\n",
      "text/plain": [
       "<IPython.core.display.Javascript object>"
      ]
     },
     "metadata": {},
     "output_type": "display_data"
    },
    {
     "data": {
      "text/html": [
       "<img src=\"data:image/png;base64,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\" width=\"360\">"
      ],
      "text/plain": [
       "<IPython.core.display.HTML object>"
      ]
     },
     "metadata": {},
     "output_type": "display_data"
    },
    {
     "data": {
      "application/javascript": "/* Put everything inside the global mpl namespace */\n/* global mpl */\nwindow.mpl = {};\n\nmpl.get_websocket_type = function () {\n    if (typeof WebSocket !== 'undefined') {\n        return WebSocket;\n    } else if (typeof MozWebSocket !== 'undefined') {\n        return MozWebSocket;\n    } else {\n        alert(\n            'Your browser does not have WebSocket support. ' +\n                'Please try Chrome, Safari or Firefox ≥ 6. ' +\n                'Firefox 4 and 5 are also supported but you ' +\n                'have to enable WebSockets in about:config.'\n        );\n    }\n};\n\nmpl.figure = function (figure_id, websocket, ondownload, parent_element) {\n    this.id = figure_id;\n\n    this.ws = websocket;\n\n    this.supports_binary = this.ws.binaryType !== undefined;\n\n    if (!this.supports_binary) {\n        var warnings = document.getElementById('mpl-warnings');\n        if (warnings) {\n            warnings.style.display = 'block';\n            warnings.textContent =\n                'This browser does not support binary websocket messages. ' +\n                'Performance may be slow.';\n        }\n    }\n\n    this.imageObj = new Image();\n\n    this.context = undefined;\n    this.message = undefined;\n    this.canvas = undefined;\n    this.rubberband_canvas = undefined;\n    this.rubberband_context = undefined;\n    this.format_dropdown = undefined;\n\n    this.image_mode = 'full';\n\n    this.root = document.createElement('div');\n    this.root.setAttribute('style', 'display: inline-block');\n    this._root_extra_style(this.root);\n\n    parent_element.appendChild(this.root);\n\n    this._init_header(this);\n    this._init_canvas(this);\n    this._init_toolbar(this);\n\n    var fig = this;\n\n    this.waiting = false;\n\n    this.ws.onopen = function () {\n        fig.send_message('supports_binary', { value: fig.supports_binary });\n        fig.send_message('send_image_mode', {});\n        if (fig.ratio !== 1) {\n            fig.send_message('set_dpi_ratio', { dpi_ratio: fig.ratio });\n        }\n        fig.send_message('refresh', {});\n    };\n\n    this.imageObj.onload = function () {\n        if (fig.image_mode === 'full') {\n            // Full images could contain transparency (where diff images\n            // almost always do), so we need to clear the canvas so that\n            // there is no ghosting.\n            fig.context.clearRect(0, 0, fig.canvas.width, fig.canvas.height);\n        }\n        fig.context.drawImage(fig.imageObj, 0, 0);\n    };\n\n    this.imageObj.onunload = function () {\n        fig.ws.close();\n    };\n\n    this.ws.onmessage = this._make_on_message_function(this);\n\n    this.ondownload = ondownload;\n};\n\nmpl.figure.prototype._init_header = function () {\n    var titlebar = document.createElement('div');\n    titlebar.classList =\n        'ui-dialog-titlebar ui-widget-header ui-corner-all ui-helper-clearfix';\n    var titletext = document.createElement('div');\n    titletext.classList = 'ui-dialog-title';\n    titletext.setAttribute(\n        'style',\n        'width: 100%; text-align: center; padding: 3px;'\n    );\n    titlebar.appendChild(titletext);\n    this.root.appendChild(titlebar);\n    this.header = titletext;\n};\n\nmpl.figure.prototype._canvas_extra_style = function (_canvas_div) {};\n\nmpl.figure.prototype._root_extra_style = function (_canvas_div) {};\n\nmpl.figure.prototype._init_canvas = function () {\n    var fig = this;\n\n    var canvas_div = (this.canvas_div = document.createElement('div'));\n    canvas_div.setAttribute(\n        'style',\n        'border: 1px solid #ddd;' +\n            'box-sizing: content-box;' +\n            'clear: both;' +\n            'min-height: 1px;' +\n            'min-width: 1px;' +\n            'outline: 0;' +\n            'overflow: hidden;' +\n            'position: relative;' +\n            'resize: both;'\n    );\n\n    function on_keyboard_event_closure(name) {\n        return function (event) {\n            return fig.key_event(event, name);\n        };\n    }\n\n    canvas_div.addEventListener(\n        'keydown',\n        on_keyboard_event_closure('key_press')\n    );\n    canvas_div.addEventListener(\n        'keyup',\n        on_keyboard_event_closure('key_release')\n    );\n\n    this._canvas_extra_style(canvas_div);\n    this.root.appendChild(canvas_div);\n\n    var canvas = (this.canvas = document.createElement('canvas'));\n    canvas.classList.add('mpl-canvas');\n    canvas.setAttribute('style', 'box-sizing: content-box;');\n\n    this.context = canvas.getContext('2d');\n\n    var backingStore =\n        this.context.backingStorePixelRatio ||\n        this.context.webkitBackingStorePixelRatio ||\n        this.context.mozBackingStorePixelRatio ||\n        this.context.msBackingStorePixelRatio ||\n        this.context.oBackingStorePixelRatio ||\n        this.context.backingStorePixelRatio ||\n        1;\n\n    this.ratio = (window.devicePixelRatio || 1) / backingStore;\n    if (this.ratio !== 1) {\n        fig.send_message('set_dpi_ratio', { dpi_ratio: this.ratio });\n    }\n\n    var rubberband_canvas = (this.rubberband_canvas = document.createElement(\n        'canvas'\n    ));\n    rubberband_canvas.setAttribute(\n        'style',\n        'box-sizing: content-box; position: absolute; left: 0; top: 0; z-index: 1;'\n    );\n\n    var resizeObserver = new ResizeObserver(function (entries) {\n        var nentries = entries.length;\n        for (var i = 0; i < nentries; i++) {\n            var entry = entries[i];\n            var width, height;\n            if (entry.contentBoxSize) {\n                if (entry.contentBoxSize instanceof Array) {\n                    // Chrome 84 implements new version of spec.\n                    width = entry.contentBoxSize[0].inlineSize;\n                    height = entry.contentBoxSize[0].blockSize;\n                } else {\n                    // Firefox implements old version of spec.\n                    width = entry.contentBoxSize.inlineSize;\n                    height = entry.contentBoxSize.blockSize;\n                }\n            } else {\n                // Chrome <84 implements even older version of spec.\n                width = entry.contentRect.width;\n                height = entry.contentRect.height;\n            }\n\n            // Keep the size of the canvas and rubber band canvas in sync with\n            // the canvas container.\n            if (entry.devicePixelContentBoxSize) {\n                // Chrome 84 implements new version of spec.\n                canvas.setAttribute(\n                    'width',\n                    entry.devicePixelContentBoxSize[0].inlineSize\n                );\n                canvas.setAttribute(\n                    'height',\n                    entry.devicePixelContentBoxSize[0].blockSize\n                );\n            } else {\n                canvas.setAttribute('width', width * fig.ratio);\n                canvas.setAttribute('height', height * fig.ratio);\n            }\n            canvas.setAttribute(\n                'style',\n                'width: ' + width + 'px; height: ' + height + 'px;'\n            );\n\n            rubberband_canvas.setAttribute('width', width);\n            rubberband_canvas.setAttribute('height', height);\n\n            // And update the size in Python. We ignore the initial 0/0 size\n            // that occurs as the element is placed into the DOM, which should\n            // otherwise not happen due to the minimum size styling.\n            if (width != 0 && height != 0) {\n                fig.request_resize(width, height);\n            }\n        }\n    });\n    resizeObserver.observe(canvas_div);\n\n    function on_mouse_event_closure(name) {\n        return function (event) {\n            return fig.mouse_event(event, name);\n        };\n    }\n\n    rubberband_canvas.addEventListener(\n        'mousedown',\n        on_mouse_event_closure('button_press')\n    );\n    rubberband_canvas.addEventListener(\n        'mouseup',\n        on_mouse_event_closure('button_release')\n    );\n    // Throttle sequential mouse events to 1 every 20ms.\n    rubberband_canvas.addEventListener(\n        'mousemove',\n        on_mouse_event_closure('motion_notify')\n    );\n\n    rubberband_canvas.addEventListener(\n        'mouseenter',\n        on_mouse_event_closure('figure_enter')\n    );\n    rubberband_canvas.addEventListener(\n        'mouseleave',\n        on_mouse_event_closure('figure_leave')\n    );\n\n    canvas_div.addEventListener('wheel', function (event) {\n        if (event.deltaY < 0) {\n            event.step = 1;\n        } else {\n            event.step = -1;\n        }\n        on_mouse_event_closure('scroll')(event);\n    });\n\n    canvas_div.appendChild(canvas);\n    canvas_div.appendChild(rubberband_canvas);\n\n    this.rubberband_context = rubberband_canvas.getContext('2d');\n    this.rubberband_context.strokeStyle = '#000000';\n\n    this._resize_canvas = function (width, height, forward) {\n        if (forward) {\n            canvas_div.style.width = width + 'px';\n            canvas_div.style.height = height + 'px';\n        }\n    };\n\n    // Disable right mouse context menu.\n    this.rubberband_canvas.addEventListener('contextmenu', function (_e) {\n        event.preventDefault();\n        return false;\n    });\n\n    function set_focus() {\n        canvas.focus();\n        canvas_div.focus();\n    }\n\n    window.setTimeout(set_focus, 100);\n};\n\nmpl.figure.prototype._init_toolbar = function () {\n    var fig = this;\n\n    var toolbar = document.createElement('div');\n    toolbar.classList = 'mpl-toolbar';\n    this.root.appendChild(toolbar);\n\n    function on_click_closure(name) {\n        return function (_event) {\n            return fig.toolbar_button_onclick(name);\n        };\n    }\n\n    function on_mouseover_closure(tooltip) {\n        return function (event) {\n            if (!event.currentTarget.disabled) {\n                return fig.toolbar_button_onmouseover(tooltip);\n            }\n        };\n    }\n\n    fig.buttons = {};\n    var buttonGroup = document.createElement('div');\n    buttonGroup.classList = 'mpl-button-group';\n    for (var toolbar_ind in mpl.toolbar_items) {\n        var name = mpl.toolbar_items[toolbar_ind][0];\n        var tooltip = mpl.toolbar_items[toolbar_ind][1];\n        var image = mpl.toolbar_items[toolbar_ind][2];\n        var method_name = mpl.toolbar_items[toolbar_ind][3];\n\n        if (!name) {\n            /* Instead of a spacer, we start a new button group. */\n            if (buttonGroup.hasChildNodes()) {\n                toolbar.appendChild(buttonGroup);\n            }\n            buttonGroup = document.createElement('div');\n            buttonGroup.classList = 'mpl-button-group';\n            continue;\n        }\n\n        var button = (fig.buttons[name] = document.createElement('button'));\n        button.classList = 'mpl-widget';\n        button.setAttribute('role', 'button');\n        button.setAttribute('aria-disabled', 'false');\n        button.addEventListener('click', on_click_closure(method_name));\n        button.addEventListener('mouseover', on_mouseover_closure(tooltip));\n\n        var icon_img = document.createElement('img');\n        icon_img.src = '_images/' + image + '.png';\n        icon_img.srcset = '_images/' + image + '_large.png 2x';\n        icon_img.alt = tooltip;\n        button.appendChild(icon_img);\n\n        buttonGroup.appendChild(button);\n    }\n\n    if (buttonGroup.hasChildNodes()) {\n        toolbar.appendChild(buttonGroup);\n    }\n\n    var fmt_picker = document.createElement('select');\n    fmt_picker.classList = 'mpl-widget';\n    toolbar.appendChild(fmt_picker);\n    this.format_dropdown = fmt_picker;\n\n    for (var ind in mpl.extensions) {\n        var fmt = mpl.extensions[ind];\n        var option = document.createElement('option');\n        option.selected = fmt === mpl.default_extension;\n        option.innerHTML = fmt;\n        fmt_picker.appendChild(option);\n    }\n\n    var status_bar = document.createElement('span');\n    status_bar.classList = 'mpl-message';\n    toolbar.appendChild(status_bar);\n    this.message = status_bar;\n};\n\nmpl.figure.prototype.request_resize = function (x_pixels, y_pixels) {\n    // Request matplotlib to resize the figure. Matplotlib will then trigger a resize in the client,\n    // which will in turn request a refresh of the image.\n    this.send_message('resize', { width: x_pixels, height: y_pixels });\n};\n\nmpl.figure.prototype.send_message = function (type, properties) {\n    properties['type'] = type;\n    properties['figure_id'] = this.id;\n    this.ws.send(JSON.stringify(properties));\n};\n\nmpl.figure.prototype.send_draw_message = function () {\n    if (!this.waiting) {\n        this.waiting = true;\n        this.ws.send(JSON.stringify({ type: 'draw', figure_id: this.id }));\n    }\n};\n\nmpl.figure.prototype.handle_save = function (fig, _msg) {\n    var format_dropdown = fig.format_dropdown;\n    var format = format_dropdown.options[format_dropdown.selectedIndex].value;\n    fig.ondownload(fig, format);\n};\n\nmpl.figure.prototype.handle_resize = function (fig, msg) {\n    var size = msg['size'];\n    if (size[0] !== fig.canvas.width || size[1] !== fig.canvas.height) {\n        fig._resize_canvas(size[0], size[1], msg['forward']);\n        fig.send_message('refresh', {});\n    }\n};\n\nmpl.figure.prototype.handle_rubberband = function (fig, msg) {\n    var x0 = msg['x0'] / fig.ratio;\n    var y0 = (fig.canvas.height - msg['y0']) / fig.ratio;\n    var x1 = msg['x1'] / fig.ratio;\n    var y1 = (fig.canvas.height - msg['y1']) / fig.ratio;\n    x0 = Math.floor(x0) + 0.5;\n    y0 = Math.floor(y0) + 0.5;\n    x1 = Math.floor(x1) + 0.5;\n    y1 = Math.floor(y1) + 0.5;\n    var min_x = Math.min(x0, x1);\n    var min_y = Math.min(y0, y1);\n    var width = Math.abs(x1 - x0);\n    var height = Math.abs(y1 - y0);\n\n    fig.rubberband_context.clearRect(\n        0,\n        0,\n        fig.canvas.width / fig.ratio,\n        fig.canvas.height / fig.ratio\n    );\n\n    fig.rubberband_context.strokeRect(min_x, min_y, width, height);\n};\n\nmpl.figure.prototype.handle_figure_label = function (fig, msg) {\n    // Updates the figure title.\n    fig.header.textContent = msg['label'];\n};\n\nmpl.figure.prototype.handle_cursor = function (fig, msg) {\n    var cursor = msg['cursor'];\n    switch (cursor) {\n        case 0:\n            cursor = 'pointer';\n            break;\n        case 1:\n            cursor = 'default';\n            break;\n        case 2:\n            cursor = 'crosshair';\n            break;\n        case 3:\n            cursor = 'move';\n            break;\n    }\n    fig.rubberband_canvas.style.cursor = cursor;\n};\n\nmpl.figure.prototype.handle_message = function (fig, msg) {\n    fig.message.textContent = msg['message'];\n};\n\nmpl.figure.prototype.handle_draw = function (fig, _msg) {\n    // Request the server to send over a new figure.\n    fig.send_draw_message();\n};\n\nmpl.figure.prototype.handle_image_mode = function (fig, msg) {\n    fig.image_mode = msg['mode'];\n};\n\nmpl.figure.prototype.handle_history_buttons = function (fig, msg) {\n    for (var key in msg) {\n        if (!(key in fig.buttons)) {\n            continue;\n        }\n        fig.buttons[key].disabled = !msg[key];\n        fig.buttons[key].setAttribute('aria-disabled', !msg[key]);\n    }\n};\n\nmpl.figure.prototype.handle_navigate_mode = function (fig, msg) {\n    if (msg['mode'] === 'PAN') {\n        fig.buttons['Pan'].classList.add('active');\n        fig.buttons['Zoom'].classList.remove('active');\n    } else if (msg['mode'] === 'ZOOM') {\n        fig.buttons['Pan'].classList.remove('active');\n        fig.buttons['Zoom'].classList.add('active');\n    } else {\n        fig.buttons['Pan'].classList.remove('active');\n        fig.buttons['Zoom'].classList.remove('active');\n    }\n};\n\nmpl.figure.prototype.updated_canvas_event = function () {\n    // Called whenever the canvas gets updated.\n    this.send_message('ack', {});\n};\n\n// A function to construct a web socket function for onmessage handling.\n// Called in the figure constructor.\nmpl.figure.prototype._make_on_message_function = function (fig) {\n    return function socket_on_message(evt) {\n        if (evt.data instanceof Blob) {\n            /* FIXME: We get \"Resource interpreted as Image but\n             * transferred with MIME type text/plain:\" errors on\n             * Chrome.  But how to set the MIME type?  It doesn't seem\n             * to be part of the websocket stream */\n            evt.data.type = 'image/png';\n\n            /* Free the memory for the previous frames */\n            if (fig.imageObj.src) {\n                (window.URL || window.webkitURL).revokeObjectURL(\n                    fig.imageObj.src\n                );\n            }\n\n            fig.imageObj.src = (window.URL || window.webkitURL).createObjectURL(\n                evt.data\n            );\n            fig.updated_canvas_event();\n            fig.waiting = false;\n            return;\n        } else if (\n            typeof evt.data === 'string' &&\n            evt.data.slice(0, 21) === 'data:image/png;base64'\n        ) {\n            fig.imageObj.src = evt.data;\n            fig.updated_canvas_event();\n            fig.waiting = false;\n            return;\n        }\n\n        var msg = JSON.parse(evt.data);\n        var msg_type = msg['type'];\n\n        // Call the  \"handle_{type}\" callback, which takes\n        // the figure and JSON message as its only arguments.\n        try {\n            var callback = fig['handle_' + msg_type];\n        } catch (e) {\n            console.log(\n                \"No handler for the '\" + msg_type + \"' message type: \",\n                msg\n            );\n            return;\n        }\n\n        if (callback) {\n            try {\n                // console.log(\"Handling '\" + msg_type + \"' message: \", msg);\n                callback(fig, msg);\n            } catch (e) {\n                console.log(\n                    \"Exception inside the 'handler_\" + msg_type + \"' callback:\",\n                    e,\n                    e.stack,\n                    msg\n                );\n            }\n        }\n    };\n};\n\n// from http://stackoverflow.com/questions/1114465/getting-mouse-location-in-canvas\nmpl.findpos = function (e) {\n    //this section is from http://www.quirksmode.org/js/events_properties.html\n    var targ;\n    if (!e) {\n        e = window.event;\n    }\n    if (e.target) {\n        targ = e.target;\n    } else if (e.srcElement) {\n        targ = e.srcElement;\n    }\n    if (targ.nodeType === 3) {\n        // defeat Safari bug\n        targ = targ.parentNode;\n    }\n\n    // pageX,Y are the mouse positions relative to the document\n    var boundingRect = targ.getBoundingClientRect();\n    var x = e.pageX - (boundingRect.left + document.body.scrollLeft);\n    var y = e.pageY - (boundingRect.top + document.body.scrollTop);\n\n    return { x: x, y: y };\n};\n\n/*\n * return a copy of an object with only non-object keys\n * we need this to avoid circular references\n * http://stackoverflow.com/a/24161582/3208463\n */\nfunction simpleKeys(original) {\n    return Object.keys(original).reduce(function (obj, key) {\n        if (typeof original[key] !== 'object') {\n            obj[key] = original[key];\n        }\n        return obj;\n    }, {});\n}\n\nmpl.figure.prototype.mouse_event = function (event, name) {\n    var canvas_pos = mpl.findpos(event);\n\n    if (name === 'button_press') {\n        this.canvas.focus();\n        this.canvas_div.focus();\n    }\n\n    var x = canvas_pos.x * this.ratio;\n    var y = canvas_pos.y * this.ratio;\n\n    this.send_message(name, {\n        x: x,\n        y: y,\n        button: event.button,\n        step: event.step,\n        guiEvent: simpleKeys(event),\n    });\n\n    /* This prevents the web browser from automatically changing to\n     * the text insertion cursor when the button is pressed.  We want\n     * to control all of the cursor setting manually through the\n     * 'cursor' event from matplotlib */\n    event.preventDefault();\n    return false;\n};\n\nmpl.figure.prototype._key_event_extra = function (_event, _name) {\n    // Handle any extra behaviour associated with a key event\n};\n\nmpl.figure.prototype.key_event = function (event, name) {\n    // Prevent repeat events\n    if (name === 'key_press') {\n        if (event.which === this._key) {\n            return;\n        } else {\n            this._key = event.which;\n        }\n    }\n    if (name === 'key_release') {\n        this._key = null;\n    }\n\n    var value = '';\n    if (event.ctrlKey && event.which !== 17) {\n        value += 'ctrl+';\n    }\n    if (event.altKey && event.which !== 18) {\n        value += 'alt+';\n    }\n    if (event.shiftKey && event.which !== 16) {\n        value += 'shift+';\n    }\n\n    value += 'k';\n    value += event.which.toString();\n\n    this._key_event_extra(event, name);\n\n    this.send_message(name, { key: value, guiEvent: simpleKeys(event) });\n    return false;\n};\n\nmpl.figure.prototype.toolbar_button_onclick = function (name) {\n    if (name === 'download') {\n        this.handle_save(this, null);\n    } else {\n        this.send_message('toolbar_button', { name: name });\n    }\n};\n\nmpl.figure.prototype.toolbar_button_onmouseover = function (tooltip) {\n    this.message.textContent = tooltip;\n};\nmpl.toolbar_items = [[\"Home\", \"Reset original view\", \"fa fa-home icon-home\", \"home\"], [\"Back\", \"Back to previous view\", \"fa fa-arrow-left icon-arrow-left\", \"back\"], [\"Forward\", \"Forward to next view\", \"fa fa-arrow-right icon-arrow-right\", \"forward\"], [\"\", \"\", \"\", \"\"], [\"Pan\", \"Left button pans, Right button zooms\\nx/y fixes axis, CTRL fixes aspect\", \"fa fa-arrows icon-move\", \"pan\"], [\"Zoom\", \"Zoom to rectangle\\nx/y fixes axis, CTRL fixes aspect\", \"fa fa-square-o icon-check-empty\", \"zoom\"], [\"\", \"\", \"\", \"\"], [\"Download\", \"Download plot\", \"fa fa-floppy-o icon-save\", \"download\"]];\n\nmpl.extensions = [\"eps\", \"jpeg\", \"pdf\", \"png\", \"ps\", \"raw\", \"svg\", \"tif\"];\n\nmpl.default_extension = \"png\";/* global mpl */\n\nvar comm_websocket_adapter = function (comm) {\n    // Create a \"websocket\"-like object which calls the given IPython comm\n    // object with the appropriate methods. Currently this is a non binary\n    // socket, so there is still some room for performance tuning.\n    var ws = {};\n\n    ws.close = function () {\n        comm.close();\n    };\n    ws.send = function (m) {\n        //console.log('sending', m);\n        comm.send(m);\n    };\n    // Register the callback with on_msg.\n    comm.on_msg(function (msg) {\n        //console.log('receiving', msg['content']['data'], msg);\n        // Pass the mpl event to the overridden (by mpl) onmessage function.\n        ws.onmessage(msg['content']['data']);\n    });\n    return ws;\n};\n\nmpl.mpl_figure_comm = function (comm, msg) {\n    // This is the function which gets called when the mpl process\n    // starts-up an IPython Comm through the \"matplotlib\" channel.\n\n    var id = msg.content.data.id;\n    // Get hold of the div created by the display call when the Comm\n    // socket was opened in Python.\n    var element = document.getElementById(id);\n    var ws_proxy = comm_websocket_adapter(comm);\n\n    function ondownload(figure, _format) {\n        window.open(figure.canvas.toDataURL());\n    }\n\n    var fig = new mpl.figure(id, ws_proxy, ondownload, element);\n\n    // Call onopen now - mpl needs it, as it is assuming we've passed it a real\n    // web socket which is closed, not our websocket->open comm proxy.\n    ws_proxy.onopen();\n\n    fig.parent_element = element;\n    fig.cell_info = mpl.find_output_cell(\"<div id='\" + id + \"'></div>\");\n    if (!fig.cell_info) {\n        console.error('Failed to find cell for figure', id, fig);\n        return;\n    }\n    fig.cell_info[0].output_area.element.one(\n        'cleared',\n        { fig: fig },\n        fig._remove_fig_handler\n    );\n};\n\nmpl.figure.prototype.handle_close = function (fig, msg) {\n    var width = fig.canvas.width / fig.ratio;\n    fig.cell_info[0].output_area.element.off(\n        'cleared',\n        fig._remove_fig_handler\n    );\n\n    // Update the output cell to use the data from the current canvas.\n    fig.push_to_output();\n    var dataURL = fig.canvas.toDataURL();\n    // Re-enable the keyboard manager in IPython - without this line, in FF,\n    // the notebook keyboard shortcuts fail.\n    IPython.keyboard_manager.enable();\n    fig.parent_element.innerHTML =\n        '<img src=\"' + dataURL + '\" width=\"' + width + '\">';\n    fig.close_ws(fig, msg);\n};\n\nmpl.figure.prototype.close_ws = function (fig, msg) {\n    fig.send_message('closing', msg);\n    // fig.ws.close()\n};\n\nmpl.figure.prototype.push_to_output = function (_remove_interactive) {\n    // Turn the data on the canvas into data in the output cell.\n    var width = this.canvas.width / this.ratio;\n    var dataURL = this.canvas.toDataURL();\n    this.cell_info[1]['text/html'] =\n        '<img src=\"' + dataURL + '\" width=\"' + width + '\">';\n};\n\nmpl.figure.prototype.updated_canvas_event = function () {\n    // Tell IPython that the notebook contents must change.\n    IPython.notebook.set_dirty(true);\n    this.send_message('ack', {});\n    var fig = this;\n    // Wait a second, then push the new image to the DOM so\n    // that it is saved nicely (might be nice to debounce this).\n    setTimeout(function () {\n        fig.push_to_output();\n    }, 1000);\n};\n\nmpl.figure.prototype._init_toolbar = function () {\n    var fig = this;\n\n    var toolbar = document.createElement('div');\n    toolbar.classList = 'btn-toolbar';\n    this.root.appendChild(toolbar);\n\n    function on_click_closure(name) {\n        return function (_event) {\n            return fig.toolbar_button_onclick(name);\n        };\n    }\n\n    function on_mouseover_closure(tooltip) {\n        return function (event) {\n            if (!event.currentTarget.disabled) {\n                return fig.toolbar_button_onmouseover(tooltip);\n            }\n        };\n    }\n\n    fig.buttons = {};\n    var buttonGroup = document.createElement('div');\n    buttonGroup.classList = 'btn-group';\n    var button;\n    for (var toolbar_ind in mpl.toolbar_items) {\n        var name = mpl.toolbar_items[toolbar_ind][0];\n        var tooltip = mpl.toolbar_items[toolbar_ind][1];\n        var image = mpl.toolbar_items[toolbar_ind][2];\n        var method_name = mpl.toolbar_items[toolbar_ind][3];\n\n        if (!name) {\n            /* Instead of a spacer, we start a new button group. */\n            if (buttonGroup.hasChildNodes()) {\n                toolbar.appendChild(buttonGroup);\n            }\n            buttonGroup = document.createElement('div');\n            buttonGroup.classList = 'btn-group';\n            continue;\n        }\n\n        button = fig.buttons[name] = document.createElement('button');\n        button.classList = 'btn btn-default';\n        button.href = '#';\n        button.title = name;\n        button.innerHTML = '<i class=\"fa ' + image + ' fa-lg\"></i>';\n        button.addEventListener('click', on_click_closure(method_name));\n        button.addEventListener('mouseover', on_mouseover_closure(tooltip));\n        buttonGroup.appendChild(button);\n    }\n\n    if (buttonGroup.hasChildNodes()) {\n        toolbar.appendChild(buttonGroup);\n    }\n\n    // Add the status bar.\n    var status_bar = document.createElement('span');\n    status_bar.classList = 'mpl-message pull-right';\n    toolbar.appendChild(status_bar);\n    this.message = status_bar;\n\n    // Add the close button to the window.\n    var buttongrp = document.createElement('div');\n    buttongrp.classList = 'btn-group inline pull-right';\n    button = document.createElement('button');\n    button.classList = 'btn btn-mini btn-primary';\n    button.href = '#';\n    button.title = 'Stop Interaction';\n    button.innerHTML = '<i class=\"fa fa-power-off icon-remove icon-large\"></i>';\n    button.addEventListener('click', function (_evt) {\n        fig.handle_close(fig, {});\n    });\n    button.addEventListener(\n        'mouseover',\n        on_mouseover_closure('Stop Interaction')\n    );\n    buttongrp.appendChild(button);\n    var titlebar = this.root.querySelector('.ui-dialog-titlebar');\n    titlebar.insertBefore(buttongrp, titlebar.firstChild);\n};\n\nmpl.figure.prototype._remove_fig_handler = function (event) {\n    var fig = event.data.fig;\n    fig.close_ws(fig, {});\n};\n\nmpl.figure.prototype._root_extra_style = function (el) {\n    el.style.boxSizing = 'content-box'; // override notebook setting of border-box.\n};\n\nmpl.figure.prototype._canvas_extra_style = function (el) {\n    // this is important to make the div 'focusable\n    el.setAttribute('tabindex', 0);\n    // reach out to IPython and tell the keyboard manager to turn it's self\n    // off when our div gets focus\n\n    // location in version 3\n    if (IPython.notebook.keyboard_manager) {\n        IPython.notebook.keyboard_manager.register_events(el);\n    } else {\n        // location in version 2\n        IPython.keyboard_manager.register_events(el);\n    }\n};\n\nmpl.figure.prototype._key_event_extra = function (event, _name) {\n    var manager = IPython.notebook.keyboard_manager;\n    if (!manager) {\n        manager = IPython.keyboard_manager;\n    }\n\n    // Check for shift+enter\n    if (event.shiftKey && event.which === 13) {\n        this.canvas_div.blur();\n        // select the cell after this one\n        var index = IPython.notebook.find_cell_index(this.cell_info[0]);\n        IPython.notebook.select(index + 1);\n    }\n};\n\nmpl.figure.prototype.handle_save = function (fig, _msg) {\n    fig.ondownload(fig, null);\n};\n\nmpl.find_output_cell = function (html_output) {\n    // Return the cell and output element which can be found *uniquely* in the notebook.\n    // Note - this is a bit hacky, but it is done because the \"notebook_saving.Notebook\"\n    // IPython event is triggered only after the cells have been serialised, which for\n    // our purposes (turning an active figure into a static one), is too late.\n    var cells = IPython.notebook.get_cells();\n    var ncells = cells.length;\n    for (var i = 0; i < ncells; i++) {\n        var cell = cells[i];\n        if (cell.cell_type === 'code') {\n            for (var j = 0; j < cell.output_area.outputs.length; j++) {\n                var data = cell.output_area.outputs[j];\n                if (data.data) {\n                    // IPython >= 3 moved mimebundle to data attribute of output\n                    data = data.data;\n                }\n                if (data['text/html'] === html_output) {\n                    return [cell, data, j];\n                }\n            }\n        }\n    }\n};\n\n// Register the function which deals with the matplotlib target/channel.\n// The kernel may be null if the page has been refreshed.\nif (IPython.notebook.kernel !== null) {\n    IPython.notebook.kernel.comm_manager.register_target(\n        'matplotlib',\n        mpl.mpl_figure_comm\n    );\n}\n",
      "text/plain": [
       "<IPython.core.display.Javascript object>"
      ]
     },
     "metadata": {},
     "output_type": "display_data"
    },
    {
     "data": {
      "text/html": [
       "<img src=\"data:image/png;base64,iVBORw0KGgoAAAANSUhEUgAAASwAAACbCAYAAADYxaYMAAAABHNCSVQICAgIfAhkiAAABIZJREFUeF7t1AEJAAAMAsHZv/RyPNwSyE3cOQIECEQEFskpJgECBM5gKQEBAhkBg5V5laAECBgsHSBAICNgsDKvEpQAAYOlAwQIZAQMVuZVghIgYLB0gACBjIDByrxKUAIEDJYOECCQETBYmVcJSoCAwdIBAgQyAgYr8ypBCRAwWDpAgEBGwGBlXiUoAQIGSwcIEMgIGKzMqwQlQMBg6QABAhkBg5V5laAECBgsHSBAICNgsDKvEpQAAYOlAwQIZAQMVuZVghIgYLB0gACBjIDByrxKUAIEDJYOECCQETBYmVcJSoCAwdIBAgQyAgYr8ypBCRAwWDpAgEBGwGBlXiUoAQIGSwcIEMgIGKzMqwQlQMBg6QABAhkBg5V5laAECBgsHSBAICNgsDKvEpQAAYOlAwQIZAQMVuZVghIgYLB0gACBjIDByrxKUAIEDJYOECCQETBYmVcJSoCAwdIBAgQyAgYr8ypBCRAwWDpAgEBGwGBlXiUoAQIGSwcIEMgIGKzMqwQlQMBg6QABAhkBg5V5laAECBgsHSBAICNgsDKvEpQAAYOlAwQIZAQMVuZVghIgYLB0gACBjIDByrxKUAIEDJYOECCQETBYmVcJSoCAwdIBAgQyAgYr8ypBCRAwWDpAgEBGwGBlXiUoAQIGSwcIEMgIGKzMqwQlQMBg6QABAhkBg5V5laAECBgsHSBAICNgsDKvEpQAAYOlAwQIZAQMVuZVghIgYLB0gACBjIDByrxKUAIEDJYOECCQETBYmVcJSoCAwdIBAgQyAgYr8ypBCRAwWDpAgEBGwGBlXiUoAQIGSwcIEMgIGKzMqwQlQMBg6QABAhkBg5V5laAECBgsHSBAICNgsDKvEpQAAYOlAwQIZAQMVuZVghIgYLB0gACBjIDByrxKUAIEDJYOECCQETBYmVcJSoCAwdIBAgQyAgYr8ypBCRAwWDpAgEBGwGBlXiUoAQIGSwcIEMgIGKzMqwQlQMBg6QABAhkBg5V5laAECBgsHSBAICNgsDKvEpQAAYOlAwQIZAQMVuZVghIgYLB0gACBjIDByrxKUAIEDJYOECCQETBYmVcJSoCAwdIBAgQyAgYr8ypBCRAwWDpAgEBGwGBlXiUoAQIGSwcIEMgIGKzMqwQlQMBg6QABAhkBg5V5laAECBgsHSBAICNgsDKvEpQAAYOlAwQIZAQMVuZVghIgYLB0gACBjIDByrxKUAIEDJYOECCQETBYmVcJSoCAwdIBAgQyAgYr8ypBCRAwWDpAgEBGwGBlXiUoAQIGSwcIEMgIGKzMqwQlQMBg6QABAhkBg5V5laAECBgsHSBAICNgsDKvEpQAAYOlAwQIZAQMVuZVghIgYLB0gACBjIDByrxKUAIEDJYOECCQETBYmVcJSoCAwdIBAgQyAgYr8ypBCRAwWDpAgEBGwGBlXiUoAQIGSwcIEMgIGKzMqwQlQMBg6QABAhkBg5V5laAECBgsHSBAICNgsDKvEpQAAYOlAwQIZAQMVuZVghIgYLB0gACBjIDByrxKUAIEDJYOECCQEXhzZQCc3emKSAAAAABJRU5ErkJggg==\" width=\"300\">"
      ],
      "text/plain": [
       "<IPython.core.display.HTML object>"
      ]
     },
     "metadata": {},
     "output_type": "display_data"
    }
   ],
   "source": [
    "ppx, ppy = 0.02924, 0.02688 #Pixel pitches in x and y [mm]\n",
    "plot_tracks = 3             #Plot the first 3 events\n",
    "connect_hits = True         #Connects the hits\n",
    "min_nop = 7                 #Plot only events that include 7 planes\n",
    "\n",
    "#Create a figure object\n",
    "xlim,ylim,zlim = 1023*ppx,511*ppy,6*20 #Dimensions of the detector\n",
    "fig = plt.figure(figsize=(5,5))\n",
    "ax = plt.axes(projection='3d')  #Create 3d Axes\n",
    "ax._axis3don = False            #... but invisible\n",
    "#ax.set_box_aspect((3,3,3))      #Define aspect ratio\n",
    "ax.set_xlim3d(0,xlim)           #Axis limits in x\n",
    "ax.set_ylim3d(0,ylim)           #Axis limits in y\n",
    "ax.set_zlim3d(0,zlim)     \n",
    "x = np.arange(0,1025*0.02924,512*0.02924)\n",
    "y = np.arange(0,1024*0.02688,512*0.02688)\n",
    "X, Y = np.meshgrid(x,y)\n",
    "Z = np.ndarray((len(y),len(x)))\n",
    "Z.fill(0)\n",
    "\n",
    "#Draw the planes\n",
    "for plane in range(7):\n",
    "    Z.fill(plane*20)\n",
    "    ax.plot_surface(X,Y,Z,alpha=.1,color='black')\n",
    "\n",
    "plot_counter = 0\n",
    "#Plot the hits\n",
    "for event in range(len(hit_data)):\n",
    "    \n",
    "    #Plot only events with the minimum amount of planes specified\n",
    "    if (hit_data[event]['number_of_planes'] < min_nop): continue\n",
    "        \n",
    "    x_data, y_data, z_data = [], [], []\n",
    "    \n",
    "    for plane in range(7):\n",
    "        \n",
    "        #Skip over empty hits\n",
    "        if (hit_data[event][plane][\"XC\"] == -1): continue\n",
    "        \n",
    "        #Put everything else into plottable arrays\n",
    "        x_data.append(ppx*hit_data[event][plane][\"XC\"])\n",
    "        y_data.append(ppy*hit_data[event][plane][\"YC\"])\n",
    "        z_data.append(plane*20)\n",
    "\n",
    "        ax.scatter3D(x_data,y_data,alpha=.7,color='black',marker='.')\n",
    "        \n",
    "        # OPTIONAL: Connect dots for Better visibility of Tracks\n",
    "        if connect_hits:\n",
    "            ax.plot(x_data,y_data,z_data, linewidth=.5)#, color='grey')\n",
    "        \n",
    "    plot_counter+=1\n",
    "    if plot_counter > plot_tracks: break\n",
    "    "
   ]
  },
  {
   "cell_type": "markdown",
   "metadata": {},
   "source": [
    "Next, the processed data is used to get a nice overview over some properties of the data"
   ]
  },
  {
   "cell_type": "code",
   "execution_count": null,
   "metadata": {},
   "outputs": [],
   "source": [
    "# container\n",
    "holes=[[0,0,0,0,0,0,0],[0,0,0,0,0,0,0],[0,0,0,0,0,0,0]]#holes[number of holes][n-plane-event]\n",
    "holes_sum = [0,0,0,0,0,0,0]\n",
    "n_p_e = [0,0,0,0,0,0,0] #number of n-plane-events\n",
    "hits = [0,0,0,0,0,0,0] #number of hits per plane\n",
    "\n",
    "#definition to exclude zeros from start and beginning of a list_line\n",
    "def clear_seq(list):\n",
    "    while list[-1] == 1:\n",
    "        list.pop(-1)\n",
    "    while list[0] == 1:\n",
    "        list.pop(0)\n",
    "\n",
    "\n",
    "for event in range(len(hit_data)):\n",
    "\n",
    "    ### count number of n-plane-events and the number of hits per plane\n",
    "    n_p_e[hit_data[event][\"number_of_planes\"]-1] +=1\n",
    "    #check which planes fired\n",
    "    for i in range(7):\n",
    "        if hit_data[event][i][\"XC\"] != -1:\n",
    "            hits[i] +=1\n",
    "        \n",
    "\n",
    "    ### count the holes total (depending on the number of involved planes)\n",
    "\n",
    "    # look in events with high number >=2 of involved planes (n-plane-events) \n",
    "    if hit_data[event][\"number_of_planes\"] >= 2:\n",
    "\n",
    "        npe = hit_data[event][\"number_of_planes\"]\n",
    "        seq=[0,0,0,0,0,0,0]\n",
    "        # look through every plane, if there is a hole\n",
    "        for i in range(7):\n",
    "            #-1 signs a plane without a hit\n",
    "            if hit_data[event][i][\"XC\"] == -1:\n",
    "                #now a hole is marked as 1 in the sequence \n",
    "                seq[i]= 1\n",
    "        #clear the beginning and end of the sequence, for example [1,0,0,0,0,0,1] -> [0,0,0,0,0], since gaps at the beginning and at the end are not part of the sequnce of hitted planes\n",
    "        clear_seq(seq)\n",
    "        num_holes = sum(seq)\n",
    "\n",
    "        # if at least one hole is there\n",
    "        if num_holes > 0:\n",
    "            holes_sum[npe-1] +=1\n",
    "            if num_holes == 1:\n",
    "                holes[0][npe-1] += 1\n",
    "            elif num_holes == 2:\n",
    "                holes[1][npe-1] += 1\n",
    "            elif num_holes == 3:\n",
    "                holes[2][npe-1] += 1\n"
   ]
  },
  {
   "cell_type": "markdown",
   "metadata": {},
   "source": [
    "Now we plot the number of n-plane-events (events in which n planes registered a hit) and we look at events, where the sequnce of firing planes is interrupted by a gap (plane, which did not fire)."
   ]
  },
  {
   "cell_type": "code",
   "execution_count": null,
   "metadata": {},
   "outputs": [],
   "source": [
    "plane = np.arange(1, 8)\n",
    "# holes\n",
    "#differentiate different hole numbers\n",
    "hole_1 = np.array([0, holes[0], holes[1], holes[3], holes[6], holes[8], 0])#holes[0]\n",
    "hole_2 = np.array([0, 0, holes[2], holes[4], holes[7],0, 0])#holes[1]\n",
    "hole_3 = np.array([0, 0, 0, holes[5], 0, 0, 0])#holes[2]\n",
    "\n",
    "#total number of holes\n",
    "# sum_hole_1= sum(holes[0])\n",
    "# sum_hole_2= sum(holes[1])\n",
    "# sum_hole_3= sum(hole[2])\n",
    "\n",
    "\n",
    "####################################################################### plotting\n",
    "plt.figure(figsize=(14, 10))\n",
    "plt.yscale(\"log\")\n",
    "plt.grid(which=\"both\", axis=\"both\")\n",
    "plt.errorbar(plane, n_p_e, xerr=0.5, fmt='k', elinewidth=1.5, lw=0, capsize=3, capthick=1.5)\n",
    "plt.xlabel(\"Number of traversed planes\", fontsize=18)\n",
    "plt.ylabel(\"Number of events\", fontsize=18)\n",
    "plt.title(\"Number of measured measured multi-plane-events\", fontsize=24)\n",
    "plt.tick_params(axis='both', labelsize=18)\n",
    "#plt.legend(fontsize=18)\n",
    "plt.show()\n",
    "\n",
    "\n",
    "# plotting HOLES\n",
    "fig, (ax1,ax2) = plt.subplots(1,2,figsize=(18, 8))\n",
    "ax1.set_yscale(\"log\")\n",
    "ax1.grid(which=\"both\", axis=\"both\")\n",
    "ax1.errorbar(plane, n_p_e,xerr=0.5, fmt='k',elinewidth=1.5, lw=0, capsize=3, capthick=1.5, label= \"Measured number of n-p-e\")\n",
    "ax1.errorbar(plane, holes,xerr=0.5, fmt='b', elinewidth=1.5, lw=0, capsize=3, capthick=1.5, label= \"Number of events with gaps\")\n",
    "\n",
    "ax1.set_xlabel(\"number of traversed planes\", fontsize=18)\n",
    "ax1.set_ylabel(\"mean rate $[1/s]$\", fontsize=18)\n",
    "ax1.tick_params(axis='both', labelsize=18)\n",
    "#ax1.set_title(\"Mean rate of measured multi-plane-events, considering holes\")\n",
    "ax1.legend()#(fontsize=16)\n",
    "\n",
    "ax2.errorbar(plane, holes/(n_p_e+0.00000000001), xerr=0.5,fmt='k',\n",
    "             elinewidth=1.5, lw=0, capsize=3, capthick=1.5)\n",
    "ax2.grid(which=\"both\", axis=\"both\")\n",
    "ax2.set_xlabel(\"number of traversed planes\", fontsize=18)\n",
    "ax2.set_ylabel(\"Ratio of events with gaps to all measured events\", fontsize=18)\n",
    "ax2.tick_params(axis='both', labelsize=18)\n",
    "#ax2.set_title(\"Ratio of events with gaps to total rate of n-plane-events\")\n",
    "plt.show()\n",
    "\n",
    "\n",
    "# plotting MORE ON HOLES\n",
    "plt.figure(figsize=(14, 10))\n",
    "plt.grid(which=\"both\", axis=\"both\")\n",
    "plt.errorbar(plane[1:6], holes[1:6], xerr=0.5,fmt='k', elinewidth=1.5, lw=0, capsize=6, capthick=1.5, label= \"Total number of holes\")\n",
    "plt.errorbar(plane[1:6], holes[0][1:6],xerr=0.5,fmt='r',elinewidth=1.5, lw=0, capsize=3, capthick=1.5, label= \"number of 1 hole events\")\n",
    "plt.errorbar(plane[1:6], holes[1][1:6],xerr=0.5, fmt='b',elinewidth=1.5, lw=0, capsize=3, capthick=1.5, label= \"number of 2 hole events\")\n",
    "plt.errorbar(plane[1:6],holes[2][1:6], xerr=0.5,fmt='green',elinewidth=1.5,lw=0,capsize=3, capthick=1.5, label= \"number of 3 hole events\")\n",
    "\n",
    "plt.xlabel(\"number of traversed planes\")\n",
    "plt.ylabel(\"Number of holes\")\n",
    "# plt.title(\"Mean rate of holes\")\n",
    "plt.legend()\n",
    "plt.show()\n",
    "\n",
    "\n",
    "# plotting_TOTAL_HITS\n",
    "\n",
    "\n",
    "plt.figure(figsize=(14, 10))\n",
    "plt.grid(which=\"both\", axis=\"both\")\n",
    "plt.errorbar(plane-1, hits, xerr=0.5, fmt='k',\n",
    "             elinewidth=1.5, lw=0, capsize=3, capthick=1.5)\n",
    "plt.xlabel(\"Plane\", fontsize=18)\n",
    "#plt.ylabel(\"Mean rate $[1/s]$\", fontsize=18)\n",
    "plt.ylabel(\"Counts\", fontsize = 18)\n",
    "plt.tick_params(axis='both', labelsize=18)\n",
    "plt.title(\"Number of hits per plane\", fontsize=24)\n",
    "# plt.legend()\n",
    "plt.show()"
   ]
  },
  {
   "cell_type": "markdown",
   "metadata": {},
   "source": [
    "Now, the angular distribution and fit quality is examined:"
   ]
  },
  {
   "cell_type": "code",
   "execution_count": null,
   "metadata": {},
   "outputs": [],
   "source": [
    "##container to store plot information\n",
    "Phi =  np.array([])\n",
    "Chi2red =  np.array([])\n",
    "Phi4,Phi5,Phi6,Phi7 = np.array([]),np.array([]),np.array([]),np.array([])\n",
    "\n",
    "chi2red = 10 ###############   choose chi2red cut for the data visualisation\n",
    "\n",
    "\n",
    "# select an event(run over all events)\n",
    "for event in range(len(hit_data)):\n",
    "\n",
    "    #check that the vent has at least 4 involved planes\n",
    "    if hit_data[event][\"number_of_planes\"] >= 4:\n",
    "\n",
    "        #check, if chi2red < 10, to justify that the fit of the track in this event is good\n",
    "        if hit_data[event][\"chi2red\"] <= chi2red:\n",
    "\n",
    "            #save chi2red for good tracks in list\n",
    "            Chi2red = np.append(Chi2red,hit_data[event][\"chi2red\"])\n",
    "\n",
    "            #extract the distances out of the two track point (tp1 and tp2) given\n",
    "            d_x = hit_data[event][\"tp2\"][0]-hit_data[event][\"tp1\"][0]\n",
    "            d_y = hit_data[event][\"tp2\"][1]-hit_data[event][\"tp1\"][1]\n",
    "            d_z = hit_data[event][\"tp2\"][2]-hit_data[event][\"tp1\"][2]\n",
    "            d_t = np.sqrt(d_x**2 + d_y**2)\n",
    "\n",
    "            #calculate angle of the track\n",
    "            phi = np.arctan(d_t/d_z)*360/(2*np.pi)\n",
    "            Phi = np.append(Phi,phi)\n",
    "\n",
    "            # look at the angles for events with different numbers of involved planes\n",
    "            if hit_data[event][\"number_of_planes\"]==4:\n",
    "                Phi4 = np.append(Phi4,phi)\n",
    "            if hit_data[event][\"number_of_planes\"]==5:\n",
    "                Phi5 = np.append(Phi5,phi)\n",
    "            if hit_data[event][\"number_of_planes\"]==6:\n",
    "                Phi6 = np.append(Phi6,phi)\n",
    "            if hit_data[event][\"number_of_planes\"]==7:\n",
    "                Phi7 = np.append(Phi7,phi)\n",
    "\n",
    "\n",
    "#######################---PLOTS   PLOTS   PLOTS   PLOTS---#############################\n",
    "\n",
    "plt.hist(Phi,bins= 14 ,range=(0,28), color= \"darkblue\")#, label=\"Selected tracks, $\\chi^2_{red} \\leqslant$ \"+str(chi2red))\n",
    "plt.title(\"Angular distribution of 4 or more plane events with $\\chi^2_{red} \\leqslant$ \"+str(chi2red))\n",
    "plt.xlabel(\"Zenith angle [°]\")\n",
    "plt.ylabel(\"Counts\")\n",
    "plt.legend()\n",
    "plt.show()\n",
    "\n",
    "plt.figure(figsize=(8, 8))\n",
    "plt.hist(Chi2red, bins=20, color=\"darkblue\")#, label=\"Selected tracks, $\\chi^2_{red}$ in range \"+str(chi11)+\" to \"+str(chi12))+\" and \"+str(chi21)+\" to \"+str(chi22)\n",
    "#plt.hist(Chi,range=(0,100), bins=50, label=\"Selected tracks, $\\phi$ in range \"+str(phi111)+\" to \"+str(phi142))\n",
    "plt.title(\"$\\chi^2_{red}$-distribution of 4 and more plane events with cut at $\\chi^2_{red} =$ \"+str(chi2red), fontsize = 24)# in range \"+str(chi11)+\" to \"+str(chi12))\n",
    "plt.xlabel(\"$\\chi^2_{red}$\", fontsize = 18)\n",
    "plt.ylabel(\"Counts\", fontsize = 18)\n",
    "plt.tick_params(axis='both', labelsize=18)\n",
    "#plt.legend()\n",
    "plt.show()\n",
    "\n",
    "plt.figure(figsize=(12, 10))\n",
    "plt.hist(([Phi7,Phi6,Phi5,Phi4]), bins= 14 ,range=(0,28),label=(\"7 planes\",\"6 or more planes\",\"5 or more planes\",\"4 or more planes\" ), color= (\"darkred\",\"darkgreen\",\"darkorange\",\"darkblue\")\n",
    ", histtype=\"barstacked\")#, weights=(np.ones(len(Phi7)),np.ones(len(Phi6))/2,np.ones(len(Phi5))/3,np.ones(len(Phi4))/4))\n",
    "plt.title(\"Angular distribution of n-plane-eventswith, $\\chi^2_{red}\\leq$\"+str(chi2red), fontsize = 24)#, $\\chi^2_{red}$ in range \"+str(chi11)+\" to \"+str(chi12), fontsize = 24)\n",
    "plt.xlabel(\"Zenith angle [°]\", fontsize = 18)\n",
    "plt.ylabel(\"Counts\", fontsize = 18)\n",
    "plt.tick_params(axis='both', labelsize=18)\n",
    "plt.legend(fontsize = 18)"
   ]
  }
 ],
 "metadata": {
  "interpreter": {
   "hash": "767d51c1340bd893661ea55ea3124f6de3c7a262a8b4abca0554b478b1e2ff90"
  },
  "kernelspec": {
   "display_name": "Python 3.6.8 64-bit",
   "name": "python3"
  },
  "language_info": {
   "name": "python",
   "version": ""
  }
 },
 "nbformat": 4,
 "nbformat_minor": 2
}