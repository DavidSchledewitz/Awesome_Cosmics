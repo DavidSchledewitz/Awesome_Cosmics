{
 "cells": [
  {
   "cell_type": "markdown",
   "metadata": {},
   "source": [
    "# Python data analysis script\n",
    "This script takes `.json` files exported from the `[JSONWriter]` module of Corryvreckan, and is aimed towards analyzing and plotting the hit data."
   ]
  },
  {
   "cell_type": "code",
   "execution_count": 1,
   "metadata": {},
   "outputs": [
    {
     "name": "stdout",
     "output_type": "stream",
     "text": [
      "Importing packages...\n"
     ]
    }
   ],
   "source": [
    "print('Importing packages...')\n",
    "import json\n",
    "import os\n",
    "import numpy as np\n",
    "from tqdm import tqdm"
   ]
  },
  {
   "cell_type": "markdown",
   "metadata": {},
   "source": [
    "## Importing data into python\n",
    "### Reading in .json file"
   ]
  },
  {
   "cell_type": "code",
   "execution_count": 2,
   "metadata": {},
   "outputs": [
    {
     "name": "stdout",
     "output_type": "stream",
     "text": [
      "Loading File...\n"
     ]
    }
   ],
   "source": [
    "print('Loading File...')\n",
    "file = 'data/example.json'\n",
    "\n",
    "with open(file) as json_file:\n",
    "    data = json.load(json_file)"
   ]
  },
  {
   "attachments": {
    "image.png": {
     "image/png": "[encoded data removed]"
    }
   },
   "cell_type": "markdown",
   "metadata": {},
   "source": [
    "The JSON file is structured as follows:\n",
    "\n",
    "![image.png](attachment:image.png)\n",
    "\n",
    "The information of a single pixel hit is stored inside of an object, and these objects are bundled into events."
   ]
  },
  {
   "cell_type": "markdown",
   "metadata": {},
   "source": [
    "### Writing all relevant data into one object\n",
    "The goal of this section is to create a python object that contains all necessary data of all events. It should be able to be appended further down the line. The easiest way to do this is to use python lists and dictonaries."
   ]
  },
  {
   "cell_type": "code",
   "execution_count": 3,
   "metadata": {},
   "outputs": [],
   "source": [
    "hit_data = []    #initialize the list of all events\n",
    "event_no = 0     #use a counter that will be incremented on each step\n",
    "\n",
    "#Start the event loop\n",
    "for event in data:\n",
    "    \n",
    "    #Skip over empty events\n",
    "    if len(event) == 0: continue\n",
    "        \n",
    "    #Create a python dictionary for each event.\n",
    "    hit_data.append({})\n",
    "    \n",
    "    #Create an entry in the dictionary for each plane\n",
    "    for plane in range(7):\n",
    "        hit_data[event_no][plane] = {}      #Stores all plane data\n",
    "        hit_data[event_no][plane][\"X\"] = [] #Stores x-coordinates of hits\n",
    "        hit_data[event_no][plane][\"Y\"] = [] #Stores y-coordinates of hits\n",
    "    \n",
    "    #Read out pixel by pixel\n",
    "    for obj in event:\n",
    "        \n",
    "        #First, find out which plane the hit belongs to\n",
    "        plane = int(obj[\"m_detectorID\"].split(\"_\")[1])\n",
    "        #Second, read out x (column) and y (row) data\n",
    "        hit_data[event_no][plane][\"X\"].append(int(obj[\"m_column\"]))\n",
    "        hit_data[event_no][plane][\"Y\"].append(int(obj[\"m_row\"]))\n",
    "        \n",
    "    #Increment counter\n",
    "    event_no+=1"
   ]
  },
  {
   "cell_type": "markdown",
   "metadata": {},
   "source": [
    "For example, we can look at the 614th event like this:"
   ]
  },
  {
   "cell_type": "code",
   "execution_count": 4,
   "metadata": {},
   "outputs": [
    {
     "data": {
      "text/plain": [
       "{0: {'X': [768], 'Y': [150]},\n",
       " 1: {'X': [591, 694, 695, 695, 694], 'Y': [286, 160, 160, 161, 161]},\n",
       " 2: {'X': [692, 692], 'Y': [68, 69]},\n",
       " 3: {'X': [699], 'Y': [39]},\n",
       " 4: {'X': [506, 713, 713, 714, 714], 'Y': [372, 5, 6, 5, 6]},\n",
       " 5: {'X': [708, 708], 'Y': [14, 15]},\n",
       " 6: {'X': [], 'Y': []}}"
      ]
     },
     "execution_count": 4,
     "metadata": {},
     "output_type": "execute_result"
    }
   ],
   "source": [
    "hit_data[613]"
   ]
  },
  {
   "cell_type": "markdown",
   "metadata": {},
   "source": [
    "### Masking\n",
    "Some pixels on some planes have a high tendency to fire randomly. In this step, the goal is to find these pixels, and exclude them from our analysis."
   ]
  },
  {
   "cell_type": "code",
   "execution_count": 5,
   "metadata": {},
   "outputs": [
    {
     "name": "stdout",
     "output_type": "stream",
     "text": [
      "Creating Mask...\n"
     ]
    },
    {
     "name": "stderr",
     "output_type": "stream",
     "text": [
      "  1%|          | 44147/3670016 [00:00<00:08, 441463.05it/s]"
     ]
    },
    {
     "name": "stdout",
     "output_type": "stream",
     "text": [
      "Pixels fired on average 0.07 times\n",
      "Masking all pixels that fired more than 7 times\n"
     ]
    },
    {
     "name": "stderr",
     "output_type": "stream",
     "text": [
      "100%|██████████| 3670016/3670016 [00:05<00:00, 642499.63it/s]"
     ]
    },
    {
     "name": "stdout",
     "output_type": "stream",
     "text": [
      "Masked pixels:\n",
      "[[], [(591, 286)], [(416, 1), (416, 4), (416, 7), (416, 10), (416, 12), (416, 13), (416, 14), (416, 16), (416, 19), (416, 25), (416, 28), (416, 31), (416, 36), (416, 40), (416, 47), (416, 48), (416, 49), (416, 50), (416, 51), (416, 52), (416, 56), (416, 57), (416, 58), (416, 61), (417, 2), (417, 3), (417, 4), (417, 7), (417, 18), (417, 21), (417, 23), (417, 24), (417, 25), (417, 26), (417, 28), (417, 29), (417, 34), (417, 37), (417, 44), (417, 47), (417, 48), (417, 50), (417, 51), (417, 52), (417, 57), (417, 63)], [(390, 398)], [(506, 372)], [], []]\n"
     ]
    },
    {
     "name": "stderr",
     "output_type": "stream",
     "text": [
      "\n"
     ]
    }
   ],
   "source": [
    "print('Creating Mask...')\n",
    "\n",
    "#Create a matrix for each plane\n",
    "pixels = np.zeros((7,1024,512),int)\n",
    "\n",
    "#Loop over all events\n",
    "for event in range(len(hit_data)):\n",
    "    \n",
    "    #Loop over all planes\n",
    "    for plane in range(7):\n",
    "        \n",
    "        #Check, how many hits the event contains\n",
    "        nhits = len(hit_data[event][plane]['X'])\n",
    "        \n",
    "        #Write them into the corresponding matrix\n",
    "        for hit in range(nhits):\n",
    "            x = hit_data[event][plane]['X'][hit]\n",
    "            y = hit_data[event][plane]['Y'][hit]\n",
    "            pixels[plane][x][y]+=1\n",
    "\n",
    "# Check for the mean hit rate of all pixels\n",
    "frequency = []\n",
    "for plane in range(7):\n",
    "    for x in range(1024):\n",
    "        for y in range(512):\n",
    "            frequency.append(pixels[plane][x][y])\n",
    "            \n",
    "mean_hits = np.mean(frequency)\n",
    "\n",
    "print('Pixels fired on average {} times'.format(\n",
    "    np.round(mean_hits,2)))\n",
    "\n",
    "#Then, mask all pixels that fire 100x more frequent\n",
    "mask_limit = int(np.round(100*mean_hits))\n",
    "\n",
    "print('Masking all pixels that fired more than {} times'.format(\n",
    "    mask_limit))\n",
    "\n",
    "#We will store them in a list for quick reference\n",
    "masked_pixels = []\n",
    "\n",
    "with tqdm(total=7*1024*512) as pbar:\n",
    "    for plane in range(7):\n",
    "        masked_pixels.append([])\n",
    "        for x in range(1024):\n",
    "            for y in range(512):\n",
    "                pbar.update()\n",
    "                if (pixels[plane][x][y] > mask_limit):\n",
    "                    masked_pixels[plane].append((x,y))\n",
    "\n",
    "print(\"Masked pixels:\\n{}\".format(masked_pixels))"
   ]
  },
  {
   "cell_type": "markdown",
   "metadata": {},
   "source": [
    "Now we see, that also our 614th event is affected by a hot pixel on `plane_1`. To fix all these events, we will remove all hits from those hot pixels:"
   ]
  },
  {
   "cell_type": "code",
   "execution_count": 6,
   "metadata": {},
   "outputs": [
    {
     "name": "stdout",
     "output_type": "stream",
     "text": [
      "Reduced 87375 events to 5249 events after masking\n"
     ]
    }
   ],
   "source": [
    "#Save number of events before masking for later ;)\n",
    "before_masking = len(hit_data)\n",
    "\n",
    "for event in range(len(hit_data)):\n",
    "    \n",
    "    for plane in range(7):\n",
    "        nhits = len(hit_data[event][plane]['X'])\n",
    "        counter = 0\n",
    "        for hit in range(nhits):\n",
    "            x = hit_data[event][plane]['X'][counter]\n",
    "            y = hit_data[event][plane]['Y'][counter]\n",
    "            if (x,y) in masked_pixels[plane]:\n",
    "                hit_data[event][plane]['X'].remove(x)\n",
    "                hit_data[event][plane]['Y'].remove(y)\n",
    "                counter-=1 #If an event is removed, check the next event that takes its place\n",
    "            counter+=1\n",
    "            \n",
    "#Finally remove all empty events (reverse to avoid confusion)\n",
    "for event in reversed(range(len(hit_data))):\n",
    "    \n",
    "    empty = True\n",
    "    \n",
    "    #Check all planes\n",
    "    for plane in range(7):\n",
    "        \n",
    "        #If there is an event, mark as non-empty\n",
    "        if hit_data[event][plane]['X']:\n",
    "            empty = False\n",
    "            break\n",
    "    if empty: del hit_data[event]\n",
    "        \n",
    "after_masking = len(hit_data)\n",
    "\n",
    "print('Reduced {} events to {} events after masking'.format(before_masking,after_masking))"
   ]
  },
  {
   "cell_type": "code",
   "execution_count": 7,
   "metadata": {},
   "outputs": [
    {
     "data": {
      "text/plain": [
       "{0: {'X': [768], 'Y': [150]},\n",
       " 1: {'X': [694, 695, 695, 694], 'Y': [160, 160, 161, 161]},\n",
       " 2: {'X': [692, 692], 'Y': [68, 69]},\n",
       " 3: {'X': [699], 'Y': [39]},\n",
       " 4: {'X': [713, 713, 714, 714], 'Y': [5, 6, 5, 6]},\n",
       " 5: {'X': [708, 708], 'Y': [14, 15]},\n",
       " 6: {'X': [], 'Y': []}}"
      ]
     },
     "execution_count": 7,
     "metadata": {},
     "output_type": "execute_result"
    }
   ],
   "source": [
    "#The 614th event is now the 31st\n",
    "hit_data[30]"
   ]
  },
  {
   "cell_type": "markdown",
   "metadata": {},
   "source": [
    "### Adding some helpful information"
   ]
  },
  {
   "cell_type": "markdown",
   "metadata": {},
   "source": [
    "For later analysis, it can come in handy, to seperate the events into different categories, based on the number of planes that have been hit. So we'll quickly add an entry for that."
   ]
  },
  {
   "cell_type": "code",
   "execution_count": 8,
   "metadata": {},
   "outputs": [],
   "source": [
    "for event in range(len(hit_data)):\n",
    "    \n",
    "    total_planes = 7 #Set the total number of planes\n",
    "    \n",
    "    for plane in range(total_planes):\n",
    "        if not hit_data[event][plane][\"X\"]:        #for each empty event\n",
    "            hit_data[event][plane][\"X\"].append(-1) #write a -1 into the hit array\n",
    "            hit_data[event][plane][\"Y\"].append(-1) #---\"---\n",
    "            total_planes-=1                        #and substract one from the total number of planes\n",
    "           \n",
    "    #Add an entry into the dictionary\n",
    "    hit_data[event][\"number_of_planes\"] = total_planes"
   ]
  },
  {
   "cell_type": "code",
   "execution_count": 9,
   "metadata": {},
   "outputs": [
    {
     "data": {
      "text/plain": [
       "378"
      ]
     },
     "execution_count": 9,
     "metadata": {},
     "output_type": "execute_result"
    }
   ],
   "source": [
    "#Function for counting n-plane events\n",
    "def count(nop):\n",
    "    counter = 0\n",
    "    for i in range(len(hit_data)):\n",
    "        if (hit_data[i]['number_of_planes'] == int(nop)): counter+=1\n",
    "    return counter\n",
    "count(7)"
   ]
  },
  {
   "cell_type": "markdown",
   "metadata": {},
   "source": [
    "Now, our object will look like this:"
   ]
  },
  {
   "cell_type": "code",
   "execution_count": 10,
   "metadata": {},
   "outputs": [
    {
     "data": {
      "text/plain": [
       "{0: {'X': [768], 'Y': [150]},\n",
       " 1: {'X': [694, 695, 695, 694], 'Y': [160, 160, 161, 161]},\n",
       " 2: {'X': [692, 692], 'Y': [68, 69]},\n",
       " 3: {'X': [699], 'Y': [39]},\n",
       " 4: {'X': [713, 713, 714, 714], 'Y': [5, 6, 5, 6]},\n",
       " 5: {'X': [708, 708], 'Y': [14, 15]},\n",
       " 6: {'X': [-1], 'Y': [-1]},\n",
       " 'number_of_planes': 6}"
      ]
     },
     "execution_count": 10,
     "metadata": {},
     "output_type": "execute_result"
    }
   ],
   "source": [
    "hit_data[30]"
   ]
  },
  {
   "cell_type": "markdown",
   "metadata": {},
   "source": [
    "This way, we can add all sort of stuff into the dictionary as we go on, from tracking information, all the way to residuals and goodness-of-fit information."
   ]
  },
  {
   "cell_type": "markdown",
   "metadata": {},
   "source": [
    "## Calculating hit positions"
   ]
  },
  {
   "cell_type": "markdown",
   "metadata": {},
   "source": [
    "For now, our data consisted of individual pixel hits. In the next step, we want to combine these hits into a cluster, to determine the\n",
    "hit position more accurately.\n"
   ]
  },
  {
   "cell_type": "code",
   "execution_count": 11,
   "metadata": {},
   "outputs": [
    {
     "name": "stderr",
     "output_type": "stream",
     "text": [
      "  3%|▎         | 160/5249 [00:00<00:03, 1588.95it/s]"
     ]
    },
    {
     "name": "stdout",
     "output_type": "stream",
     "text": [
      "Calculating hit positions...\n"
     ]
    },
    {
     "name": "stderr",
     "output_type": "stream",
     "text": [
      "100%|██████████| 5249/5249 [00:03<00:00, 1616.07it/s]\n"
     ]
    }
   ],
   "source": [
    "print('Calculating hit positions...')\n",
    "\n",
    "with tqdm(total=len(hit_data)) as pbar:\n",
    "\n",
    "    for event in range(len(hit_data)):\n",
    "    \n",
    "        for plane in range(7):\n",
    "        \n",
    "            if (hit_data[event][plane][\"X\"][0] == -1):\n",
    "                hit_data[event][plane][\"XC\"] = -1.0\n",
    "                continue\n",
    "                \n",
    "            #Calculate the cluster position in X and Y (mean)\n",
    "            Cluster_X = np.round(np.mean(hit_data[event][plane][\"X\"]),2)\n",
    "            Cluster_Y = np.round(np.mean(hit_data[event][plane][\"Y\"]),2)\n",
    "        \n",
    "            #Calculate the standard deviation (the cluster spread)\n",
    "            sdev = np.round(\n",
    "                np.sqrt(\n",
    "                    np.std(hit_data[event][plane][\"X\"])**2+\n",
    "                    np.std(hit_data[event][plane][\"Y\"])**2),2)\n",
    "        \n",
    "            #If the cluster consists of one pixel alone, the uncertainty is defined by the binary resolution\n",
    "            if sdev == 0:\n",
    "                sdev = np.round(1/np.sqrt(12),2)\n",
    "        \n",
    "            #Add an entry to the dictionary\n",
    "            hit_data[event][plane][\"XC\"] = Cluster_X\n",
    "            hit_data[event][plane][\"YC\"] = Cluster_Y\n",
    "            hit_data[event][plane][\"sdev\"] = sdev\n",
    "                \n",
    "        pbar.update(1)\n",
    "                "
   ]
  },
  {
   "cell_type": "markdown",
   "metadata": {},
   "source": [
    "Now, our object will contain a lot of new, helpful stuff!"
   ]
  },
  {
   "cell_type": "code",
   "execution_count": 12,
   "metadata": {},
   "outputs": [
    {
     "data": {
      "text/plain": [
       "{0: {'X': [768], 'Y': [150], 'XC': 768.0, 'YC': 150.0, 'sdev': 0.29},\n",
       " 1: {'X': [694, 695, 695, 694],\n",
       "  'Y': [160, 160, 161, 161],\n",
       "  'XC': 694.5,\n",
       "  'YC': 160.5,\n",
       "  'sdev': 0.71},\n",
       " 2: {'X': [692, 692], 'Y': [68, 69], 'XC': 692.0, 'YC': 68.5, 'sdev': 0.5},\n",
       " 3: {'X': [699], 'Y': [39], 'XC': 699.0, 'YC': 39.0, 'sdev': 0.29},\n",
       " 4: {'X': [713, 713, 714, 714],\n",
       "  'Y': [5, 6, 5, 6],\n",
       "  'XC': 713.5,\n",
       "  'YC': 5.5,\n",
       "  'sdev': 0.71},\n",
       " 5: {'X': [708, 708], 'Y': [14, 15], 'XC': 708.0, 'YC': 14.5, 'sdev': 0.5},\n",
       " 6: {'X': [-1], 'Y': [-1], 'XC': -1.0},\n",
       " 'number_of_planes': 6}"
      ]
     },
     "execution_count": 12,
     "metadata": {},
     "output_type": "execute_result"
    }
   ],
   "source": [
    "hit_data[30]"
   ]
  },
  {
   "cell_type": "markdown",
   "metadata": {},
   "source": [
    "## Taking a first look at the data"
   ]
  },
  {
   "cell_type": "markdown",
   "metadata": {},
   "source": [
    "We will be using the `mplot3d` toolkit from `matplotlib` to visualize the data. First we import it:"
   ]
  },
  {
   "cell_type": "code",
   "execution_count": 13,
   "metadata": {},
   "outputs": [],
   "source": [
    "import matplotlib.pyplot as plt\n",
    "from mpl_toolkits import mplot3d\n",
    "from mpl_toolkits.mplot3d import proj3d\n",
    "%matplotlib notebook"
   ]
  },
  {
   "cell_type": "markdown",
   "metadata": {},
   "source": [
    "First of all, we need to convert from pixel into mm in order to be able to compare x and y position to z position."
   ]
  },
  {
   "cell_type": "code",
   "execution_count": 14,
   "metadata": {},
   "outputs": [],
   "source": [
    "#Define pixel pitches\n",
    "ppx, ppy, ppz = 0.02924, 0.02688, 20 #Pixel pitches in x and y [mm]"
   ]
  },
  {
   "cell_type": "markdown",
   "metadata": {},
   "source": [
    "Next we choose what data to plot, and how we want it to look like."
   ]
  },
  {
   "cell_type": "code",
   "execution_count": 15,
   "metadata": {},
   "outputs": [
    {
     "name": "stdout",
     "output_type": "stream",
     "text": [
      "Plotting event 18\n",
      "Plotting event 30\n",
      "Plotting event 36\n"
     ]
    },
    {
     "data": {
      "image/png": "[encoded data removed]",
      "text/plain": [
       "<Figure size 360x360 with 1 Axes>"
      ]
     },
     "metadata": {
      "needs_background": "light"
     },
     "output_type": "display_data"
    }
   ],
   "source": [
    "n = 3                       #Plot the first 3 events\n",
    "connect_hits = True         #Connects the hits\n",
    "plot_tracks = False         #Plots Tracks (for later)\n",
    "min_nop = 6                 #Plot only events that include 6 or more planes\n",
    "\n",
    "def plot(n,connect_hits,plot_tracks,min_nop):\n",
    "    #Dimensions of the detector\n",
    "    xlim = 1023*ppx\n",
    "    ylim = 511*ppy\n",
    "    zlim = 6*ppz\n",
    "\n",
    "    #Create a figure object\n",
    "    fig = plt.figure(figsize=(5,5))\n",
    "    ax = plt.axes(projection='3d')    #Create 3d Axes\n",
    "    ax._axis3don = False              #... but invisible\n",
    "    #ax.set_box_aspect((3,3,3))       #Define aspect ratio (doesn't work in jupyter)\n",
    "    ax.set_xlim3d(0,xlim)             #Axis limits in x\n",
    "    ax.set_ylim3d(0,ylim)             #Axis limits in y\n",
    "    ax.set_zlim3d(0,zlim)             #Axis limits in z\n",
    "    x = np.arange(0,1025*ppx,512*ppx) #Create a meshgrid for plane-plotting\n",
    "    y = np.arange(0,1024*ppy,512*ppy)\n",
    "    X, Y = np.meshgrid(x,y)\n",
    "    Z = np.ndarray((len(y),len(x)))\n",
    "    Z.fill(0)\n",
    "\n",
    "    #Draw the planes\n",
    "    for plane in range(7):\n",
    "        Z.fill(plane*ppz)\n",
    "        ax.plot_surface(X,Y,Z,alpha=.1,color='black')\n",
    "\n",
    "    plot_counter = 0 #We count the plots because we only want SOME\n",
    "    #Plot the hits\n",
    "    for event in range(len(hit_data)):\n",
    "\n",
    "        #Plot only events with the minimum amount of planes specified\n",
    "        if (hit_data[event]['number_of_planes'] < min_nop): continue\n",
    "        print('Plotting event {}'.format(event))\n",
    "\n",
    "        x_data, y_data, z_data = [], [], []\n",
    "\n",
    "        for plane in range(7):\n",
    "\n",
    "            #Skip over empty hits\n",
    "            if (hit_data[event][plane][\"XC\"] == -1): continue\n",
    "\n",
    "            #Put everything else into plottable arrays\n",
    "            x_data.append(ppx*hit_data[event][plane][\"XC\"])\n",
    "            y_data.append(ppy*hit_data[event][plane][\"YC\"])\n",
    "            z_data.append(plane*ppz)\n",
    "\n",
    "            ax.scatter3D(x_data,y_data,z_data,alpha=.7,color='black',marker='.')\n",
    "\n",
    "            # OPTIONAL: Connect dots for Better visibility of Tracks\n",
    "            if connect_hits:\n",
    "                ax.plot(x_data,y_data,z_data, linewidth=.5)#, color='grey')\n",
    "                \n",
    "            # OPTIONAL: Plot tracks associated to events\n",
    "            if plot_tracks:\n",
    "                x_track = [hit_data[event]['Track_Point_1'][0],hit_data[event]['Track_Point_2'][0]]\n",
    "                y_track = [hit_data[event]['Track_Point_1'][1],hit_data[event]['Track_Point_2'][1]]\n",
    "                z_track = [hit_data[event]['Track_Point_1'][2],hit_data[event]['Track_Point_2'][2]]\n",
    "                ax.plot(x_track,y_track,z_track,linewidth=.5)\n",
    "\n",
    "        plot_counter+=1\n",
    "        if plot_counter == n: break\n",
    "    plt.show()\n",
    "            \n",
    "plot(n,True,False,min_nop)"
   ]
  },
  {
   "cell_type": "markdown",
   "metadata": {},
   "source": [
    "## Tracking\n"
   ]
  },
  {
   "cell_type": "markdown",
   "metadata": {},
   "source": [
    "In the next step, we'll investigate a way to approximate the data with \n",
    "tracks. Describing the data with tracks is a very useful concept that will later help us align the detector planes.\n",
    "\n",
    "The first step is to approximate each event with a track. A track is a mathematical object, and is not limited to the resolution of the pixel matrix. It has a much higher accuracy than the hits themselves.\n",
    "\n",
    "Secondly, we want to assign a value to each track, describing the goodness-of-fit to the track. This will be done with a residual (chi squared) analysis.\n",
    "\n",
    "We'll also calculate the residual (i.e. the distance between pixel hit and track intercept on each plane) for later\n",
    "\n",
    "_Note: Through the introduction of the z-dimension, we now calculate in mm instead of pixels. This means, the track data will be in mm while the pixel hit positions are still described in pixels. So whenever calculations are done, the pixel hits have to be multiplied to the corresponding pixel pitch._"
   ]
  },
  {
   "cell_type": "code",
   "execution_count": 16,
   "metadata": {},
   "outputs": [
    {
     "name": "stderr",
     "output_type": "stream",
     "text": [
      "  0%|          | 0/5249 [00:00<?, ?it/s]/usr/lib/python3/dist-packages/ipykernel_launcher.py:53: RuntimeWarning: invalid value encountered in double_scalars\n",
      "100%|██████████| 5249/5249 [00:01<00:00, 4445.74it/s]\n"
     ]
    }
   ],
   "source": [
    "with tqdm(total=len(hit_data)) as pbar:\n",
    "    \n",
    "    #Loop over all events\n",
    "    for event in range(len(hit_data)):\n",
    "    \n",
    "        #Number of planes belonging to the track\n",
    "        nop = hit_data[event][\"number_of_planes\"]\n",
    "        if nop == 0: continue\n",
    "    \n",
    "        #Create some arrays to calculate in (convert px to mm)\n",
    "        Fit_Data = np.ndarray((nop,3))\n",
    "        std_hit = np.ndarray((nop))\n",
    "        planes_used = [] #This is to exclude empty planes later\n",
    "\n",
    "        #Create a counter for the Fit Array\n",
    "        counter = 0\n",
    "    \n",
    "        #Loop over all planes\n",
    "        for plane in range(7):\n",
    "        \n",
    "            #Skip empty planes\n",
    "            if (hit_data[event][plane][\"XC\"] == -1): continue\n",
    "            \n",
    "            #Note which planes are non-empty\n",
    "            planes_used.append(plane)\n",
    "        \n",
    "            #Convert pixel lengths into mm\n",
    "            Fit_Data[counter][0] = ppx*hit_data[event][plane][\"XC\"]\n",
    "            Fit_Data[counter][1] = ppy*hit_data[event][plane][\"YC\"]\n",
    "            Fit_Data[counter][2] = ppz*plane  \n",
    "            std_hit[counter] = np.sqrt((ppx**2+ppy**2)/2)*hit_data[event][plane][\"sdev\"]\n",
    "            counter+=1\n",
    "    \n",
    "        # Fitting Algorithm (Based on np.linalg.svd)\n",
    "        datamean = Fit_Data.mean(axis=0)\n",
    "        uu, dd, vv = np.linalg.svd(Fit_Data - datamean)\n",
    "        linepts = vv[0] * np.mgrid[-100:100:2j][:,np.newaxis]\n",
    "        linepts += datamean\n",
    "\n",
    "        # Two Points Define the Fitted Track\n",
    "        x1 = linepts[0]\n",
    "        x2 = linepts[1]\n",
    "\n",
    "        # Take the residual\n",
    "        d = []\n",
    "        for plane in planes_used:\n",
    "            x0 = np.array([\n",
    "                hit_data[event][plane][\"XC\"]*ppx,\n",
    "                hit_data[event][plane][\"YC\"]*ppy,\n",
    "                plane*ppz])\n",
    "            \n",
    "            # Solve for the point in plane of Track (simply z = a+mb)\n",
    "            lbda = (x0[2] - x2[2])/(x2-x1)[2] # m = (z-a)/(b)\n",
    "            xz = x2+lbda*(x2-x1) # find point in axis that lies in the same plane\n",
    "            hit_data[event][plane][\"resx\"] = (x0-xz)[0]\n",
    "            hit_data[event][plane][\"resy\"] = (x0-xz)[1]\n",
    "            d.append(np.linalg.norm(xz-x0))\n",
    "            \n",
    "        #Add an entry into the dictionary containing the track coordinates\n",
    "        hit_data[event][\"Track_Point_1\"], hit_data[event][\"Track_Point_2\"] = [],[]\n",
    "        for i in range(3):\n",
    "            hit_data[event][\"Track_Point_1\"].append(x1[i])\n",
    "            hit_data[event][\"Track_Point_2\"].append(x2[i])\n",
    "\n",
    "        # From there, calculate chi2 to determine the goodness of the fit\n",
    "        chi2 = 0\n",
    "        for entry in range(len(d)):\n",
    "            chi2 += d[entry]**2/std_hit[entry]**2\n",
    "    \n",
    "        hit_data[event][\"chi2\"] = chi2\n",
    "        #Also add an entry for reduced chi2\n",
    "        hit_data[event][\"chi2red\"] = chi2/(nop*3-4)\n",
    "        \n",
    "        pbar.update(1)"
   ]
  },
  {
   "cell_type": "markdown",
   "metadata": {},
   "source": [
    "Now, our object contains also Track data:"
   ]
  },
  {
   "cell_type": "code",
   "execution_count": 17,
   "metadata": {},
   "outputs": [
    {
     "name": "stdout",
     "output_type": "stream",
     "text": [
      "Plotting event 63\n",
      "Plotting event 88\n",
      "Plotting event 101\n"
     ]
    },
    {
     "data": {
      "image/png": "[encoded data removed]",
      "text/plain": [
       "<Figure size 360x360 with 1 Axes>"
      ]
     },
     "metadata": {
      "needs_background": "light"
     },
     "output_type": "display_data"
    }
   ],
   "source": [
    "plot(3,True,True,7)"
   ]
  },
  {
   "cell_type": "markdown",
   "metadata": {},
   "source": [
    "## Alignment\n",
    "### Chi squared analysis\n",
    "To analyse fit quality, we can take a look at the chi squared distribution"
   ]
  },
  {
   "cell_type": "code",
   "execution_count": 18,
   "metadata": {},
   "outputs": [
    {
     "data": {
      "image/png": "[encoded data removed]",
      "text/plain": [
       "<Figure size 432x288 with 1 Axes>"
      ]
     },
     "metadata": {
      "needs_background": "light"
     },
     "output_type": "display_data"
    }
   ],
   "source": [
    "plt.style.use('bmh')\n",
    "\n",
    "def plotchi2(chi2_cut,number_of_bins):\n",
    "    chi2_7 = []\n",
    "    chi2_6 = []\n",
    "    chi2_5 = []\n",
    "    chi2_4 = []\n",
    "    for i in range(len(hit_data)):\n",
    "        if hit_data[i]['chi2red'] >= chi2_cut: continue\n",
    "        if (hit_data[i]['number_of_planes'] == 7):\n",
    "            chi2_7.append(hit_data[i]['chi2red'])\n",
    "            chi2_6.append(hit_data[i]['chi2red'])\n",
    "            chi2_5.append(hit_data[i]['chi2red'])\n",
    "            chi2_4.append(hit_data[i]['chi2red'])\n",
    "        elif (hit_data[i]['number_of_planes'] == 6):\n",
    "            chi2_6.append(hit_data[i]['chi2red'])\n",
    "            chi2_5.append(hit_data[i]['chi2red'])\n",
    "            chi2_4.append(hit_data[i]['chi2red'])\n",
    "        elif (hit_data[i]['number_of_planes'] == 5):\n",
    "            chi2_5.append(hit_data[i]['chi2red'])\n",
    "            chi2_4.append(hit_data[i]['chi2red'])\n",
    "        elif (hit_data[i]['number_of_planes'] == 4):\n",
    "            chi2_4.append(hit_data[i]['chi2red'])\n",
    "\n",
    "    plt.hist(chi2_4,number_of_bins,color='#061822',label='4 Planes')\n",
    "    plt.hist(chi2_5,number_of_bins,color='#063268',label='5 Planes')\n",
    "    plt.hist(chi2_6,number_of_bins,color='#3647a0',label='6 Planes')\n",
    "    plt.hist(chi2_7,number_of_bins,color='#5668c7',label='7 Planes')\n",
    "    plt.xlabel(r'$\\chi^2/\\nu$')\n",
    "    plt.ylabel('# entries')\n",
    "    plt.legend()\n",
    "    plt.plot()\n",
    "    \n",
    "plotchi2(6000,np.arange(0,6000,150))"
   ]
  },
  {
   "attachments": {
    "image.png": {
     "image/png": "[encoded data removed]"
    }
   },
   "cell_type": "markdown",
   "metadata": {},
   "source": [
    "As you can see, the fit quality is very bad. This is because the planes have a relative offset to one another, which will add a deviation to each track. In order to fix this, we preemtively calculated the residual, i.e. the distance between pixel hit and track intercept on each plane. Ideally, we would like to see the chi2red distribution peak at around 1.\n",
    "\n",
    "### Residuals\n",
    "The residuals serve as a direct measurement of the plane offset. Each plane should have a peak in its residual distribution\n",
    "\n",
    "![image.png](attachment:image.png)\n",
    "\n",
    "To align the telescope, all we need to do is shift these residuals to 0!\n",
    "\n",
    "To make sure to have an unbiased result (the shearing bias is described in more detail\n",
    "in my [bachelor thesis](https://www.physi.uni-heidelberg.de/Publications/M_Donner_BachelorThesis.pdf)), we need to define two planes as\n",
    "fixed, and then iteratively align the other 5 planes. For simplicity reasons, we will chose plane 0 and 7 for this."
   ]
  },
  {
   "cell_type": "markdown",
   "metadata": {},
   "source": [
    "## Alignment\n",
    "\n",
    "This is where the magic happens. As we learned, each plane has a slight offset, which can clearly be seen in the data. To correct for this, we will iteratively calculate the residuals for each track, take the arithmetic mean, and fix the position of the telescope virtually.\n",
    "\n",
    "With each step, the data becomes more aligned. If the changes in plane position becomes small enough, we can stop the algorithm."
   ]
  },
  {
   "cell_type": "code",
   "execution_count": 19,
   "metadata": {},
   "outputs": [
    {
     "data": {
      "text/plain": [
       "<function TextIOWrapper.close>"
      ]
     },
     "execution_count": 19,
     "metadata": {},
     "output_type": "execute_result"
    }
   ],
   "source": [
    "fx = open(\"hit_data_unaligned.py\",\"w\")\n",
    "fx.write(\"hit_data = \"+str(hit_data))\n",
    "fx.close"
   ]
  },
  {
   "cell_type": "code",
   "execution_count": null,
   "metadata": {},
   "outputs": [],
   "source": [
    "planes_used = [0,6]   #Planes fixed for alignment\n",
    "alignments = 5       #Number of alignment steps (~50 recommended)\n",
    "fine_alignments = 1  #Number of fine alignment steps (~10 recommended)\n",
    "plot_each_step = False\n",
    "# Gradually decrease chi2 and then perform fine alignment after good tracks are reached\n",
    "chi2_cut = np.logspace(5.3,2.7,alignments-fine_alignments)\n",
    "\n",
    "min_nop = 4\n",
    "N = count(4)+count(5)+count(6)+count(7) # Number of Tracks (adjust based on min_nop)\n",
    "cnt = 0\n",
    "min_chi2_reached = False\n",
    "\n",
    "# Initialize list for plotting alignment progress\n",
    "posx, posy, dposx, dposy = [], [], [], []\n",
    "for i in range(7):\n",
    "    posx.append([])\n",
    "    posy.append([])\n",
    "    dposx.append([])\n",
    "    dposy.append([])\n",
    "    posx[i].append(0)\n",
    "    posy[i].append(0)\n",
    "    dposx[i].append(0)\n",
    "    dposy[i].append(0)\n",
    "\n",
    "for a in range(alignments):\n",
    "\n",
    "    print('Tracking...')\n",
    "\n",
    "    # Count how many tracks are used for alignment after chi2cut\n",
    "    cnt_track = 0\n",
    "\n",
    "    # Show chi2 distro\n",
    "    chi2_array = []\n",
    "\n",
    "    for track in range(N):\n",
    "        \n",
    "        if hit_data\n",
    "        # Number of planes belonging to the track\n",
    "        nop = hit_data[track][\"number_of_planes\"]\n",
    "        if nop < min_nop: continue\n",
    "        # Keep track (hahah) of the planes involved in tracking\n",
    "        tracked_planes = []\n",
    "            \n",
    "        # Fix Offset of planes_used to be 0\n",
    "        plane1, plane2 = planes_used[0], planes_used[1]\n",
    "        posx[plane1][0], posy[plane1][0] = 0, 0\n",
    "        posx[plane2][0], posy[plane2][0] = 0, 0\n",
    "\n",
    "        # Apply alignment for the planes\n",
    "        for plane in range(7):\n",
    "            if (hit_data[track][plane][\"XC\"] == -1): continue\n",
    "            hit_data[track][plane][\"XC\"]-=posx[plane][a]/ppx #TAKE CARE! convert back to pixels\n",
    "            hit_data[track][plane][\"YC\"]-=posy[plane][a]/ppy # --- \"\" ---\n",
    "        \n",
    "        # Convert pixel into mm\n",
    "        Fit_Data = np.zeros((nop,3))\n",
    "        counter = 0\n",
    "        for plane in range(7):\n",
    "            if (hit_data[track][plane][\"XC\"] == -1): continue\n",
    "            tracked_planes.append(plane)\n",
    "            Fit_Data[counter][0] = ppx*hit_data[track][plane][\"XC\"]\n",
    "            Fit_Data[counter][1] = ppy*hit_data[track][plane][\"YC\"]\n",
    "            Fit_Data[counter][2] = ppz*plane\n",
    "            counter+=1\n",
    "        \n",
    "        # Fitting Algorithm\n",
    "        datamean = Fit_Data.mean(axis=0)\n",
    "        uu, dd, vv = np.linalg.svd(Fit_Data - datamean)\n",
    "        linepts = vv[0] * np.mgrid[-100:100:2j][:,np.newaxis]\n",
    "        linepts += datamean\n",
    "\n",
    "        # Two Points Define the Fitted Track\n",
    "        x1 = linepts[0]\n",
    "        x2 = linepts[1]\n",
    "\n",
    "        # Calculate the residuals for all planes\n",
    "        d = []\n",
    "        std_hit = []\n",
    "        for plane in tracked_planes:\n",
    "            x0 = np.array([\n",
    "                ppx*hit_data[track][plane][\"XC\"],\n",
    "                ppy*hit_data[track][plane][\"YC\"],\n",
    "                ppz*plane])\n",
    "            # Solve for the point in plane of Track z = a+mb\n",
    "            lbda = (x0[2] - x2[2])/(x2-x1)[2] # m = (z-a)/(b)\n",
    "            xz = x2+lbda*(x2-x1) # find point in axis that lies in the same plane\n",
    "            hit_data[track][plane][\"resx\"] = (x0-xz)[0]\n",
    "            hit_data[track][plane][\"resy\"] = (x0-xz)[1]\n",
    "            std_hit.append(np.sqrt((ppx**2+ppy**2)/2)*hit_data[track][plane][\"sdev\"])\n",
    "            d.append(np.linalg.norm(xz-x0))\n",
    "\n",
    "        # From there, calculate chi2 to determine the goodness of the fit\n",
    "        chi2 = 0\n",
    "        for entry in range(len(d)):\n",
    "            chi2 += d[entry]**2/std_hit[entry]**2\n",
    "        hit_data[track][\"chi2\"] = chi2\n",
    "        hit_data[track][\"chi2red\"] = chi2/(nop*3-4)\n",
    "\n",
    "        # Plot distro (DEBUG??)\n",
    "        if chi2 <= chi2_cut[cnt]:\n",
    "            chi2_array.append(chi2)\n",
    "\n",
    "    # Create Dictionary for Residuals\n",
    "    Res = {}\n",
    "    for plane in range(7):\n",
    "        Res[plane] = {}\n",
    "        Res[plane]['x'] = []\n",
    "        Res[plane]['y'] = []\n",
    "\n",
    "    if min_chi2_reached:\n",
    "        print('Fine Alignment iteration {}'.format(a-alignments+fine_alignments+1))\n",
    "\n",
    "    # Fill Residual Dictionary\n",
    "    print('Calculating Residuals...')\n",
    "    for track in range(N):\n",
    "        nop = hit_data[track][\"number_of_planes\"]\n",
    "        if nop < min_nop: continue\n",
    "        if (hit_data[track]['chi2red'] >= chi2_cut[cnt]): continue\n",
    "        cnt_track+=1\n",
    "\n",
    "        # After minimum chi2red is reached\n",
    "        if min_chi2_reached:\n",
    "            for plane in range(7):\n",
    "                if (hit_data[track][plane]['XC'] == -1): continue\n",
    "                if (abs(hit_data[track][plane]['resx']) <= 10):\n",
    "                    Res[plane]['x'].append(hit_data[track][plane]['resx'])\n",
    "                if (abs(hit_data[track][plane]['resy']) <= 10):\n",
    "                    Res[plane]['y'].append(hit_data[track][plane]['resy'])\n",
    "\n",
    "        # Before min chi2 is reached\n",
    "        else:\n",
    "            for plane in range(7):\n",
    "                if (hit_data[track][plane]['XC'] == -1): continue\n",
    "                Res[plane]['x'].append(hit_data[track][plane]['resx'])\n",
    "                Res[plane]['y'].append(hit_data[track][plane]['resy'])\n",
    "\n",
    "    if plot_each_step:\n",
    "        plt.hist(chi2_array,40)\n",
    "        plt.show()\n",
    "\n",
    "    # Calculate mean of residual\n",
    "    OffsetX, OffsetY, dOffsetX, dOffsetY = [], [], [], []\n",
    "    for plane in range(7):\n",
    "        if plane in planes_used:\n",
    "            OffsetX.append(0)\n",
    "            OffsetY.append(0)\n",
    "            dOffsetX.append(np.std(Res[plane]['x']))\n",
    "            dOffsetY.append(np.std(Res[plane]['y']))\n",
    "            continue\n",
    "        OffsetX.append(np.mean(Res[plane]['x']))\n",
    "        OffsetY.append(np.mean(Res[plane]['y']))\n",
    "        dOffsetX.append(np.std(Res[plane]['x']))\n",
    "        dOffsetY.append(np.std(Res[plane]['y']))\n",
    "\n",
    "    # Append changes to position array\n",
    "    print('{} Tracks survived the chi2 cut of {}'.format(cnt_track,chi2_cut[cnt]))\n",
    "    if cnt_track <= 200: print('WARNING!!! CHI2 CUT MIGHT BE TOO STRONG')\n",
    "\n",
    "    for plane in range(7):\n",
    "        print(\"Offset plane {}: x = {} y = {}\".format(\n",
    "            plane,np.round(OffsetX[plane],4),np.round(OffsetY[plane],4)))\n",
    "        posx[plane].append(OffsetX[plane])\n",
    "        posy[plane].append(OffsetY[plane])\n",
    "        dposx[plane].append(dOffsetX[plane])\n",
    "        dposy[plane].append(dOffsetY[plane])\n",
    "\n",
    "    # increment counter for chi2 cut\n",
    "    if (cnt < len(chi2_cut)-1):\n",
    "        cnt+=1\n",
    "    else: min_chi2_reached = True\n",
    "\n",
    "# So far, only the new offsets have been written to posx... need to append instead\n",
    "for a in range(alignments):\n",
    "    for plane in range(7):\n",
    "        posx[plane][a+1]+=posx[plane][a]\n",
    "        posy[plane][a+1]+=posy[plane][a]\n",
    "\n",
    "for plane in range(7):\n",
    "    print('Plane {} X: {} +- {}'.format(\n",
    "        plane,np.round(posx[plane][alignments],2),np.round(dposx[plane][alignments],2)))\n",
    "    print('Plane {} Y: {} +- {}'.format(\n",
    "        plane,np.round(posy[plane][alignments],2),np.round(dposy[plane][alignments],2)))\n",
    "\n",
    "# Plot section {{{\n",
    "print('Plotting...')\n",
    "markers=['o','^','x','s','p','h','D']\n",
    "col=['#fbcf36','#ed4c1c','#9c7e70','#5ac2f1','#11776c','#e0363a','#6a1c10']\n",
    "xaxis = np.arange(alignments+1)\n",
    "plt.figure(figsize=(10,5))\n",
    "plt.xlabel('Alignment iterations')\n",
    "plt.ylabel('Plane position in X [μm]')\n",
    "#plt.ylim(-1000,400)\n",
    "for plane in range(7):\n",
    "    if plane in planes_used: continue\n",
    "    plt.errorbar(xaxis,posx[plane],yerr=dposx[plane], label='Plane {}'.format(plane+1),\n",
    "            linewidth=1,marker=markers[plane],color='black',capsize=3,mfc=col[plane])\n",
    "plt.legend()\n",
    "plt.tight_layout()\n",
    "\n",
    "plt.figure(figsize=(10,5))\n",
    "plt.xlabel('Alignment iterations')\n",
    "plt.ylabel('Plane position in Y [μm]')\n",
    "#plt.ylim(-1200,600)\n",
    "for plane in range(7):\n",
    "    if plane in planes_used: continue\n",
    "    plt.errorbar(xaxis,posy[plane],yerr=dposy[plane], label='Plane {}'.format(plane+1),\n",
    "            linewidth=1,marker=markers[plane],color='black',capsize=3,mfc=col[plane])\n",
    "plt.legend()\n",
    "plt.tight_layout()\n",
    "plt.show()\n",
    "# }}}\n",
    "\n",
    "# Write to file for further anaylsis\n",
    "fx = open(\"hit_data_aligned.py\",\"w\")\n",
    "fx.write(\"hit_data = \"+str(hit_data))\n",
    "fx.close"
   ]
  },
  {
   "cell_type": "code",
   "execution_count": 20,
   "metadata": {},
   "outputs": [
    {
     "data": {
      "image/png": "[encoded data removed]",
      "text/plain": [
       "<Figure size 432x288 with 1 Axes>"
      ]
     },
     "metadata": {
      "needs_background": "light"
     },
     "output_type": "display_data"
    }
   ],
   "source": [
    "plotchi2(6000,np.arange(0,6000,150))"
   ]
  },
  {
   "cell_type": "code",
   "execution_count": 21,
   "metadata": {},
   "outputs": [
    {
     "name": "stdout",
     "output_type": "stream",
     "text": [
      "Plotting event 63\n",
      "Plotting event 88\n",
      "Plotting event 101\n",
      "Plotting event 125\n",
      "Plotting event 137\n",
      "Plotting event 157\n",
      "Plotting event 168\n",
      "Plotting event 185\n",
      "Plotting event 241\n",
      "Plotting event 247\n"
     ]
    },
    {
     "data": {
      "image/png": "[encoded data removed]",
      "text/plain": [
       "<Figure size 360x360 with 1 Axes>"
      ]
     },
     "metadata": {
      "needs_background": "light"
     },
     "output_type": "display_data"
    }
   ],
   "source": [
    "plot(10,True,True,7)"
   ]
  },
  {
   "cell_type": "code",
   "execution_count": 30,
   "metadata": {},
   "outputs": [
    {
     "data": {
      "text/plain": [
       "1251"
      ]
     },
     "execution_count": 30,
     "metadata": {},
     "output_type": "execute_result"
    }
   ],
   "source": [
    "count(7)+count(6)+count(5)+count(4)"
   ]
  },
  {
   "cell_type": "code",
   "execution_count": null,
   "metadata": {},
   "outputs": [],
   "source": []
  }
 ],
 "metadata": {
  "kernelspec": {
   "display_name": "Python 3",
   "language": "python",
   "name": "python3"
  },
  "language_info": {
   "codemirror_mode": {
    "name": "ipython",
    "version": 3
   },
   "file_extension": ".py",
   "mimetype": "text/x-python",
   "name": "python",
   "nbconvert_exporter": "python",
   "pygments_lexer": "ipython3",
   "version": "3.7.3"
  }
 },
 "nbformat": 4,
 "nbformat_minor": 2
}
