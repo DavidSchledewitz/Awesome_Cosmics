{
 "cells": [
  {
   "cell_type": "markdown",
   "metadata": {},
   "source": [
    "# Python data analysis script\n",
    "This script takes `.json` files exported from the `[JSONWriter]` module of Corryvreckan, and is aimed towards analyzing and plotting the hit data."
   ]
  },
  {
   "cell_type": "markdown",
   "metadata": {},
   "source": [
    "## Importing data into python\n",
    "### Reading in .json file"
   ]
  },
  {
   "cell_type": "code",
   "execution_count": 1,
   "metadata": {},
   "outputs": [],
   "source": [
    "import json\n",
    "import os\n",
    "\n",
    "file = 'data/example.json'\n",
    "\n",
    "with open(file) as json_file:\n",
    "    data = json.load(json_file)"
   ]
  },
  {
   "attachments": {
    "image.png": {
     "image/png": "[encoded data removed]"
    }
   },
   "cell_type": "markdown",
   "metadata": {},
   "source": [
    "The JSON file is structured as follows:\n",
    "\n",
    "![image.png](attachment:image.png)\n",
    "\n",
    "The information of a single pixel hit is stored inside of an object, and these objects are bundled into events."
   ]
  },
  {
   "cell_type": "markdown",
   "metadata": {},
   "source": [
    "### Writing all relevant data into one object\n",
    "The goal of this section is to create a python object that contains all necessary data of all events. It should be able to be appended further down the line. The easiest way to do this is to use python lists and dictonaries."
   ]
  },
  {
   "cell_type": "code",
   "execution_count": 2,
   "metadata": {},
   "outputs": [],
   "source": [
    "hit_data = []    #initialize the list of all events\n",
    "event_no = 0     #use a counter that will be incremented on each step\n",
    "\n",
    "#Start the event loop\n",
    "for event in data:\n",
    "    \n",
    "    #Skip over empty events\n",
    "    if len(event) == 0: continue\n",
    "        \n",
    "    #Create a python dictionary for each event.\n",
    "    hit_data.append({})\n",
    "    \n",
    "    #Create an entry in the dictionary for each plane\n",
    "    for plane in range(7):\n",
    "        hit_data[event_no][plane] = {}      #Stores all plane data\n",
    "        hit_data[event_no][plane][\"X\"] = [] #Stores x-coordinates of hits\n",
    "        hit_data[event_no][plane][\"Y\"] = [] #Stores y-coordinates of hits\n",
    "    \n",
    "    #Read out pixel by pixel\n",
    "    for obj in event:\n",
    "        \n",
    "        #First, find out which plane the hit belongs to\n",
    "        plane = int(obj[\"m_detectorID\"].split(\"_\")[1])\n",
    "        #Second, read out x (column) and y (row) data\n",
    "        hit_data[event_no][plane][\"X\"].append(int(obj[\"m_column\"]))\n",
    "        hit_data[event_no][plane][\"Y\"].append(int(obj[\"m_row\"]))\n",
    "        \n",
    "    #Increment counter\n",
    "    event_no+=1"
   ]
  },
  {
   "cell_type": "markdown",
   "metadata": {},
   "source": [
    "For example, we can look at the 614th event like this:"
   ]
  },
  {
   "cell_type": "code",
   "execution_count": 3,
   "metadata": {},
   "outputs": [
    {
     "data": {
      "text/plain": [
       "{0: {'X': [768], 'Y': [150]},\n",
       " 1: {'X': [591, 694, 695, 695, 694], 'Y': [286, 160, 160, 161, 161]},\n",
       " 2: {'X': [692, 692], 'Y': [68, 69]},\n",
       " 3: {'X': [699], 'Y': [39]},\n",
       " 4: {'X': [506, 713, 713, 714, 714], 'Y': [372, 5, 6, 5, 6]},\n",
       " 5: {'X': [708, 708], 'Y': [14, 15]},\n",
       " 6: {'X': [], 'Y': []}}"
      ]
     },
     "execution_count": 3,
     "metadata": {},
     "output_type": "execute_result"
    }
   ],
   "source": [
    "hit_data[613]"
   ]
  },
  {
   "cell_type": "markdown",
   "metadata": {},
   "source": [
    "### Masking\n",
    "Some pixels on some planes have a high tendency to fire randomly. In this step, the goal is to find these pixels, and exclude them from our analysis\n"
   ]
  },
  {
   "cell_type": "code",
   "execution_count": null,
   "metadata": {},
   "outputs": [],
   "source": [
    "pixels = np.zeros((1023,511),dtype=int)\n",
    "for event in range(len(hit_data)):\n",
    "    for plane in range(7):\n",
    "        for hit in range(len(hit_))\n",
    "        pixels[]\n",
    "        for hit in hit_data[event][plane]['X']:\n",
    "            np.append(pixels[plane],[])"
   ]
  },
  {
   "cell_type": "markdown",
   "metadata": {},
   "source": [
    "### Adding some helpful information"
   ]
  },
  {
   "cell_type": "markdown",
   "metadata": {},
   "source": [
    "For later analysis, it can come in handy, to seperate the events into different categories, based on the number of planes that have been hit. So we'll quickly add an entry for that."
   ]
  },
  {
   "cell_type": "code",
   "execution_count": 4,
   "metadata": {},
   "outputs": [],
   "source": [
    "for event in range(len(hit_data)):\n",
    "    \n",
    "    total_planes = 7 #Set the total number of planes\n",
    "    \n",
    "    for plane in range(total_planes):\n",
    "        if not hit_data[event][plane][\"X\"]:        #for each empty event\n",
    "            hit_data[event][plane][\"X\"].append(-1) #write a -1 into the hit array\n",
    "            hit_data[event][plane][\"Y\"].append(-1) #---\"---\n",
    "            total_planes-=1                        #and substract one from the total number of planes\n",
    "            \n",
    "    #Add an entry into the dictionary\n",
    "    hit_data[event][\"number_of_planes\"] = total_planes\n",
    "    "
   ]
  },
  {
   "cell_type": "markdown",
   "metadata": {},
   "source": [
    "Now, our object will look like this:"
   ]
  },
  {
   "cell_type": "code",
   "execution_count": 5,
   "metadata": {},
   "outputs": [
    {
     "data": {
      "text/plain": [
       "{0: {'X': [768], 'Y': [150]},\n",
       " 1: {'X': [591, 694, 695, 695, 694], 'Y': [286, 160, 160, 161, 161]},\n",
       " 2: {'X': [692, 692], 'Y': [68, 69]},\n",
       " 3: {'X': [699], 'Y': [39]},\n",
       " 4: {'X': [506, 713, 713, 714, 714], 'Y': [372, 5, 6, 5, 6]},\n",
       " 5: {'X': [708, 708], 'Y': [14, 15]},\n",
       " 6: {'X': [-1], 'Y': [-1]},\n",
       " 'number_of_planes': 6}"
      ]
     },
     "execution_count": 5,
     "metadata": {},
     "output_type": "execute_result"
    }
   ],
   "source": [
    "hit_data[613]"
   ]
  },
  {
   "cell_type": "markdown",
   "metadata": {},
   "source": [
    "This way, we can add all sort of stuff into the dictionary as we go on, from tracking information, all the way to residuals and goodness-of-fit information."
   ]
  },
  {
   "cell_type": "markdown",
   "metadata": {},
   "source": [
    "## Calculating hit positions"
   ]
  },
  {
   "cell_type": "markdown",
   "metadata": {},
   "source": [
    "For now, our data consisted of individual pixel hits. In the next step, we want to combine these hits into a cluster, to determine the\n",
    "hit position more accurately. For that we will make some distinctions:\n",
    "- **Only one pixel fired** In this case, we write only the given coordinate\n",
    "- **Two pixels fired** In this case we take the mean between the two given coordinates\n",
    "- **More than two pixels fired** This case is a little bit more complicated. We will define what's called a __search window__ around each pixel hit. If other pixels are included in the search window, the pixel will be marked as `True`, if not, it will be marked as `False`. This way, we will filter out single pixel hits that occur randomly on the plane (which happens A LOT (53% of all cases))"
   ]
  },
  {
   "cell_type": "code",
   "execution_count": 6,
   "metadata": {},
   "outputs": [
    {
     "name": "stderr",
     "output_type": "stream",
     "text": [
      "100%|██████████| 87375/87375 [00:57<00:00, 1510.21it/s]\n"
     ]
    }
   ],
   "source": [
    "import numpy as np\n",
    "from tqdm import tqdm\n",
    "\n",
    "bad_counter = 0\n",
    "good_counter = 0\n",
    "#Add a cool status bar\n",
    "with tqdm(total=len(hit_data)) as pbar:\n",
    "\n",
    "    for event in range(len(hit_data)):\n",
    "    \n",
    "        for plane in range(7):\n",
    "        \n",
    "            if (hit_data[event][plane][\"X\"][0] == -1):\n",
    "                hit_data[event][plane][\"XC\"] = -1.0\n",
    "                continue\n",
    "                \n",
    "            #Calculate the cluster position in X and Y (mean)\n",
    "            Cluster_X = np.round(np.mean(hit_data[event][plane][\"X\"]),2)\n",
    "            Cluster_Y = np.round(np.mean(hit_data[event][plane][\"Y\"]),2)\n",
    "        \n",
    "            #Calculate the standard deviation (the cluster spread)\n",
    "            sdev = np.round(\n",
    "                np.sqrt(\n",
    "                    np.std(hit_data[event][plane][\"X\"])**2+\n",
    "                    np.std(hit_data[event][plane][\"Y\"])**2),2)\n",
    "        \n",
    "            #If the cluster consists of one pixel alone, the uncertainty is defined by the binary resolution\n",
    "            if sdev == 0:\n",
    "                sdev = np.round(1/np.sqrt(12),2)\n",
    "                good_counter-=1\n",
    "            if sdev >= 10: bad_counter+=1\n",
    "            else: good_counter+=1\n",
    "        \n",
    "            #Add an entry to the dictionary\n",
    "            hit_data[event][plane][\"XC\"] = Cluster_X\n",
    "            hit_data[event][plane][\"YC\"] = Cluster_Y\n",
    "            hit_data[event][plane][\"sdev\"] = sdev\n",
    "                \n",
    "        pbar.update(1)\n",
    "                "
   ]
  },
  {
   "cell_type": "code",
   "execution_count": 7,
   "metadata": {},
   "outputs": [
    {
     "data": {
      "text/plain": [
       "0.5363387978142077"
      ]
     },
     "execution_count": 7,
     "metadata": {},
     "output_type": "execute_result"
    }
   ],
   "source": [
    "bad_counter/good_counter"
   ]
  },
  {
   "cell_type": "markdown",
   "metadata": {},
   "source": [
    "Now, our object will contain a lot of new, helpful stuff!"
   ]
  },
  {
   "cell_type": "code",
   "execution_count": null,
   "metadata": {},
   "outputs": [],
   "source": [
    "hit_data[613]"
   ]
  },
  {
   "cell_type": "markdown",
   "metadata": {},
   "source": [
    "## Taking a first look at the data"
   ]
  },
  {
   "cell_type": "markdown",
   "metadata": {},
   "source": [
    "We will be using the `mplot3d` toolkit from `matplotlib` to visualize the data. First we import it:"
   ]
  },
  {
   "cell_type": "code",
   "execution_count": null,
   "metadata": {},
   "outputs": [],
   "source": [
    "import matplotlib.pyplot as plt\n",
    "from mpl_toolkits import mplot3d\n",
    "from mpl_toolkits.mplot3d import proj3d\n",
    "%matplotlib notebook"
   ]
  },
  {
   "cell_type": "markdown",
   "metadata": {},
   "source": [
    "Next we choose what data to plot, and how we want it to look like"
   ]
  },
  {
   "cell_type": "code",
   "execution_count": null,
   "metadata": {},
   "outputs": [],
   "source": [
    "#Define pixel pitches\n",
    "#ppx, ppy, ppz = 0.02924, 0.02688, 20 #Pixel pitches in x and y [mm]\n",
    "ppx, ppy, ppz = 0.02924, 0.02688, 20"
   ]
  },
  {
   "cell_type": "code",
   "execution_count": null,
   "metadata": {},
   "outputs": [],
   "source": [
    "plot = 1                    #Plot the first 3 events\n",
    "connect_hits = True         #Connects the hits\n",
    "min_nop = 6                 #Plot only events that include 7 planes\n",
    "\n",
    "#Dimensions of the detector\n",
    "xlim = 1023*ppx\n",
    "ylim = 511*ppy\n",
    "zlim = 6*ppz\n",
    "\n",
    "#Create a figure object\n",
    "fig = plt.figure(figsize=(5,5))\n",
    "ax = plt.axes(projection='3d')    #Create 3d Axes\n",
    "ax._axis3don = False              #... but invisible\n",
    "#ax.set_box_aspect((3,3,3))       #Define aspect ratio\n",
    "ax.set_xlim3d(0,xlim)             #Axis limits in x\n",
    "ax.set_ylim3d(0,ylim)             #Axis limits in y\n",
    "ax.set_zlim3d(0,zlim)             #Axis limits in z\n",
    "x = np.arange(0,1025*ppx,512*ppx) #Create a meshgrid for plane-plotting\n",
    "y = np.arange(0,1024*ppy,512*ppy)\n",
    "X, Y = np.meshgrid(x,y)\n",
    "Z = np.ndarray((len(y),len(x)))\n",
    "Z.fill(0)\n",
    "\n",
    "#Draw the planes\n",
    "for plane in range(7):\n",
    "    Z.fill(plane*ppz)\n",
    "    ax.plot_surface(X,Y,Z,alpha=.1,color='black')\n",
    "\n",
    "plot_counter = 0 #We count the plots because we only want SOME\n",
    "#Plot the hits\n",
    "for event in range(len(hit_data)):\n",
    "    \n",
    "    #Plot only events with the minimum amount of planes specified\n",
    "    if (hit_data[event]['number_of_planes'] < min_nop): continue\n",
    "    print('Plotting event {}'.format(event))\n",
    "    \n",
    "    x_data, y_data, z_data = [], [], []\n",
    "    \n",
    "    for plane in range(7):\n",
    "        \n",
    "        #Skip over empty hits\n",
    "        if (hit_data[event][plane][\"XC\"] == -1): continue\n",
    "        \n",
    "        #Put everything else into plottable arrays\n",
    "        x_data.append(ppx*hit_data[event][plane][\"XC\"])\n",
    "        y_data.append(ppy*hit_data[event][plane][\"YC\"])\n",
    "        z_data.append(plane*ppz)\n",
    "\n",
    "        ax.scatter3D(x_data,y_data,z_data,alpha=.7,color='black',marker='.')\n",
    "        \n",
    "        # OPTIONAL: Connect dots for Better visibility of Tracks\n",
    "        if connect_hits:\n",
    "            ax.plot(x_data,y_data,z_data, linewidth=.5)#, color='grey')\n",
    "        \n",
    "    plot_counter+=1\n",
    "    if plot_counter == plot: break\n",
    "    "
   ]
  },
  {
   "cell_type": "markdown",
   "metadata": {},
   "source": [
    "## Tracking\n"
   ]
  },
  {
   "cell_type": "markdown",
   "metadata": {},
   "source": [
    "In the next step, we'll investigate a way to approximate the data with \n",
    "tracks. Describing the data with tracks is a very useful concept that will later help us align the detector planes.\n",
    "\n",
    "The first step is to approximate each event with a track. A track is a mathematical object, and is not limited to the pixel matrix. It has a much higher accuracy than the hits themselves.\n",
    "\n",
    "Secondly, we want to assign a value to each track, describing the goodness-of-fit to the track. This will be done with a residual (chi squared) analysis."
   ]
  },
  {
   "cell_type": "code",
   "execution_count": null,
   "metadata": {},
   "outputs": [],
   "source": [
    "with tqdm(total=len(hit_data)) as pbar:\n",
    "    \n",
    "    #Loop over all events\n",
    "    for event in range(len(hit_data)):\n",
    "    \n",
    "        #Number of planes belonging to the track\n",
    "        nop = hit_data[event][\"number_of_planes\"]\n",
    "    \n",
    "        #Create some arrays to calculate in (convert px to mm)\n",
    "        Fit_Data = np.ndarray((nop,3))\n",
    "        std_hit = np.ndarray((nop))\n",
    "        planes_used = [] #This is to exclude empty planes later\n",
    "\n",
    "        #Create a counter for the Fit Array\n",
    "        counter = 0\n",
    "    \n",
    "        #Loop over all planes\n",
    "        for plane in range(7):\n",
    "        \n",
    "            #Skip empty planes\n",
    "            if (hit_data[event][plane][\"XC\"] == -1): continue\n",
    "            \n",
    "            #Note which planes are non-empty\n",
    "            planes_used.append(plane)\n",
    "        \n",
    "            #Convert pixel lengths into mm\n",
    "            Fit_Data[counter][0] = ppx*hit_data[event][plane][\"XC\"]\n",
    "            Fit_Data[counter][1] = ppy*hit_data[event][plane][\"YC\"]\n",
    "            Fit_Data[counter][2] = plane*ppz\n",
    "            std_hit[counter] = hit_data[event][plane][\"sdev\"]  \n",
    "            #std_hit[counter] = np.sqrt((ppx**2+ppy**2)/2)*hit_data[event][plane][\"sdev\"]\n",
    "            counter+=1\n",
    "    \n",
    "        # Fitting Algorithm (Based on np.linalg.svd)\n",
    "        datamean = Fit_Data.mean(axis=0)\n",
    "        uu, dd, vv = np.linalg.svd(Fit_Data - datamean)\n",
    "        linepts = vv[0] * np.mgrid[-2500:2500:2j][:,np.newaxis]\n",
    "        linepts += datamean\n",
    "\n",
    "        # Two Points Define the Fitted Track\n",
    "        x1 = linepts[0]\n",
    "        x2 = linepts[1]\n",
    "\n",
    "        # Take the residual\n",
    "        d = []\n",
    "        for plane in planes_used:\n",
    "            x0 = np.array([\n",
    "                hit_data[event][plane][\"XC\"]*ppx,\n",
    "                hit_data[event][plane][\"YC\"]*ppy,\n",
    "                plane*ppz])\n",
    "            \n",
    "            # Solve for the point in plane of Track z = a+mb\n",
    "            lbda = (x0[2] - x2[2])/(x2-x1)[2] # m = (z-a)/(b)\n",
    "            xz = x2+lbda*(x2-x1) # find point in axis that lies in the same plane\n",
    "            hit_data[event][plane][\"resx\"] = (x0-xz)[0]\n",
    "            hit_data[event][plane][\"resy\"] = (x0-xz)[1]\n",
    "            d.append(np.linalg.norm(xz-x0))\n",
    "            \n",
    "        #Add an entry into the dictionary containing the track coordinates\n",
    "        hit_data[event][\"Track_Point_1\"], hit_data[event][\"Track_Point_2\"] = [],[]\n",
    "        for i in range(3):\n",
    "            hit_data[event][\"Track_Point_1\"].append(x1[i])\n",
    "            hit_data[event][\"Track_Point_2\"].append(x2[i])\n",
    "\n",
    "        # From there, calculate chi2 to determine the goodness of the fit\n",
    "        chi2 = 0\n",
    "        for entry in range(len(d)):\n",
    "            chi2 += d[entry]**2/std_hit[entry]**2\n",
    "    \n",
    "        hit_data[event][\"chi2\"] = chi2\n",
    "        \n",
    "        pbar.update(1)"
   ]
  },
  {
   "cell_type": "code",
   "execution_count": null,
   "metadata": {},
   "outputs": [],
   "source": [
    "hit_data[613]"
   ]
  },
  {
   "cell_type": "markdown",
   "metadata": {},
   "source": [
    "Now, our object contains also Track data, which we can plot in the next step"
   ]
  },
  {
   "cell_type": "code",
   "execution_count": null,
   "metadata": {},
   "outputs": [],
   "source": [
    "plot = 3                    #Plot the first X events\n",
    "connect_hits = True         #Connects the hits\n",
    "plot_tracks = True         #Plot tracks associated to events\n",
    "min_nop = 6                 #Plot only events that include 7 planes\n",
    "\n",
    "#Create a figure object\n",
    "fig = plt.figure(figsize=(5,5))\n",
    "ax = plt.axes(projection='3d')  #Create 3d Axes\n",
    "ax._axis3don = False            #... but invisible\n",
    "#ax.set_box_aspect((3,3,3))     #Define aspect ratio\n",
    "ax.set_xlim3d(0,xlim)           #Axis limits in x\n",
    "ax.set_ylim3d(0,ylim)           #Axis limits in y\n",
    "ax.set_zlim3d(0,zlim)     \n",
    "x = np.arange(0,1025*ppx,512*ppx) #Again convert pixel into mm\n",
    "y = np.arange(0,1024*ppy,512*ppy)\n",
    "X, Y = np.meshgrid(x,y)\n",
    "Z = np.ndarray((len(y),len(x)))\n",
    "Z.fill(0)\n",
    "\n",
    "#Draw the planes\n",
    "for plane in range(7):\n",
    "    Z.fill(plane*ppz)\n",
    "    ax.plot_surface(X,Y,Z,alpha=.1,color='black')\n",
    "\n",
    "plot_counter = 0\n",
    "\n",
    "#Plot the hits\n",
    "for event in range(len(hit_data)):\n",
    "    \n",
    "    #Plot only events with the minimum amount of planes specified\n",
    "    if (hit_data[event]['number_of_planes'] < min_nop): continue\n",
    "    print('Plotting event {}'.format(event))\n",
    "        \n",
    "    x_data, y_data, z_data = [], [], []\n",
    "    \n",
    "    for plane in range(7):\n",
    "        \n",
    "        #Skip over empty hits\n",
    "        if (hit_data[event][plane][\"XC\"] == -1): continue\n",
    "        \n",
    "        #Put everything else into plottable arrays\n",
    "        x_data.append(ppx*hit_data[event][plane][\"XC\"])\n",
    "        y_data.append(ppy*hit_data[event][plane][\"YC\"])\n",
    "        z_data.append(plane*ppz)\n",
    "\n",
    "        ax.scatter3D(x_data,y_data,z_data,alpha=.7,color='black',marker='.')\n",
    "        \n",
    "        # OPTIONAL: Connect dots for Better visibility of Tracks\n",
    "        if connect_hits:\n",
    "            ax.plot(x_data,y_data,z_data, linewidth=.5)#, color='grey')\n",
    "    \n",
    "        # OPTIONAL: Plot tracks associated to events\n",
    "        if plot_tracks:\n",
    "            x_track = [hit_data[event]['Track_Point_1'][0],hit_data[event]['Track_Point_2'][0]]\n",
    "            y_track = [hit_data[event]['Track_Point_1'][1],hit_data[event]['Track_Point_2'][1]]\n",
    "            z_track = [hit_data[event]['Track_Point_1'][2],hit_data[event]['Track_Point_2'][2]]\n",
    "            ax.plot(x_track,y_track,z_track,linewidth=.5)\n",
    "            \n",
    "    plot_counter+=1\n",
    "    if plot_counter == plot: break"
   ]
  },
  {
   "cell_type": "code",
   "execution_count": 8,
   "metadata": {},
   "outputs": [
    {
     "data": {
      "text/plain": [
       "{0: {'X': [768], 'Y': [150], 'XC': 768.0, 'YC': 150.0, 'sdev': 0.29},\n",
       " 1: {'X': [591, 694, 695, 695, 694],\n",
       "  'Y': [286, 160, 160, 161, 161],\n",
       "  'XC': 673.8,\n",
       "  'YC': 185.6,\n",
       "  'sdev': 65.07},\n",
       " 2: {'X': [692, 692], 'Y': [68, 69], 'XC': 692.0, 'YC': 68.5, 'sdev': 0.5},\n",
       " 3: {'X': [699], 'Y': [39], 'XC': 699.0, 'YC': 39.0, 'sdev': 0.29},\n",
       " 4: {'X': [506, 713, 713, 714, 714],\n",
       "  'Y': [372, 5, 6, 5, 6],\n",
       "  'XC': 672.0,\n",
       "  'YC': 78.8,\n",
       "  'sdev': 168.47},\n",
       " 5: {'X': [708, 708], 'Y': [14, 15], 'XC': 708.0, 'YC': 14.5, 'sdev': 0.5},\n",
       " 6: {'X': [-1], 'Y': [-1], 'XC': -1.0},\n",
       " 'number_of_planes': 6}"
      ]
     },
     "execution_count": 8,
     "metadata": {},
     "output_type": "execute_result"
    }
   ],
   "source": [
    "hit_data[613]"
   ]
  },
  {
   "cell_type": "code",
   "execution_count": null,
   "metadata": {},
   "outputs": [],
   "source": []
  }
 ],
 "metadata": {
  "kernelspec": {
   "display_name": "Python 3",
   "language": "python",
   "name": "python3"
  },
  "language_info": {
   "codemirror_mode": {
    "name": "ipython",
    "version": 3
   },
   "file_extension": ".py",
   "mimetype": "text/x-python",
   "name": "python",
   "nbconvert_exporter": "python",
   "pygments_lexer": "ipython3",
   "version": "3.7.3"
  }
 },
 "nbformat": 4,
 "nbformat_minor": 2
}
